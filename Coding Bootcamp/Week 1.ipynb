{
 "cells": [
  {
   "cell_type": "markdown",
   "metadata": {},
   "source": [
    "# Week 1"
   ]
  },
  {
   "cell_type": "code",
   "execution_count": 1,
   "metadata": {},
   "outputs": [
    {
     "name": "stdout",
     "output_type": "stream",
     "text": [
      "Hello World\n"
     ]
    }
   ],
   "source": [
    "print(\"Hello World\")"
   ]
  },
  {
   "cell_type": "code",
   "execution_count": 2,
   "metadata": {},
   "outputs": [
    {
     "name": "stdout",
     "output_type": "stream",
     "text": [
      "Percentage of A: 16.47%\n",
      "Percentage of T: 14.52%\n",
      "Percentage of G: 23.05%\n",
      "Percentage of C: 24.72%\n"
     ]
    }
   ],
   "source": [
    "def calculate_nucleotide_percentage(dna_sequence):\n",
    "    # Convert the sequence to uppercase to handle both uppercase and lowercase input\n",
    "    dna_sequence = dna_sequence.upper()\n",
    "    \n",
    "    # Calculate the total length of the sequence\n",
    "    total_length = len(dna_sequence)\n",
    "\n",
    "    # Count the occurrences of each nucleotide\n",
    "    count_a = dna_sequence.count('A')\n",
    "    count_t = dna_sequence.count('T')\n",
    "    count_g = dna_sequence.count('G')\n",
    "    count_c = dna_sequence.count('C')\n",
    "\n",
    "    # Calculate the percentage of each nucleotide\n",
    "    percentage_a = (count_a / total_length) * 100\n",
    "    percentage_t = (count_t / total_length) * 100\n",
    "    percentage_g = (count_g / total_length) * 100\n",
    "    percentage_c = (count_c / total_length) * 100\n",
    "\n",
    "    # Display the results\n",
    "    print(f\"Percentage of A: {percentage_a:.2f}%\")\n",
    "    print(f\"Percentage of T: {percentage_t:.2f}%\")\n",
    "    print(f\"Percentage of G: {percentage_g:.2f}%\")\n",
    "    print(f\"Percentage of C: {percentage_c:.2f}%\")\n",
    "\n",
    "# Get DNA sequence input from the user\n",
    "dna_sequence = input(\"Enter a DNA sequence: \")\n",
    "calculate_nucleotide_percentage(dna_sequence)\n"
   ]
  },
  {
   "cell_type": "markdown",
   "metadata": {},
   "source": [
    "^ This doesn't account for the numbers and spaces"
   ]
  },
  {
   "cell_type": "code",
   "execution_count": 3,
   "metadata": {},
   "outputs": [
    {
     "name": "stdout",
     "output_type": "stream",
     "text": [
      "Percentage of A: 20.91%\n",
      "Percentage of T: 18.43%\n",
      "Percentage of G: 29.27%\n",
      "Percentage of C: 31.39%\n"
     ]
    }
   ],
   "source": [
    "def calculate_nucleotide_percentage(dna_sequence):\n",
    "    # Convert the sequence to uppercase to handle both uppercase and lowercase input\n",
    "    dna_sequence = dna_sequence.upper()\n",
    "\n",
    "    # Remove any characters that are not A, T, G, or C\n",
    "    filtered_sequence = ''.join([base for base in dna_sequence if base in 'ATGC'])\n",
    "\n",
    "    # Calculate the total length of the filtered sequence\n",
    "    total_length = len(filtered_sequence)\n",
    "\n",
    "    # Check if the sequence is not empty\n",
    "    if total_length == 0:\n",
    "        print(\"The input does not contain any valid DNA nucleotides (A, T, G, C).\")\n",
    "        return\n",
    "\n",
    "    # Count the occurrences of each nucleotide\n",
    "    count_a = filtered_sequence.count('A')\n",
    "    count_t = filtered_sequence.count('T')\n",
    "    count_g = filtered_sequence.count('G')\n",
    "    count_c = filtered_sequence.count('C')\n",
    "\n",
    "    # Calculate the percentage of each nucleotide\n",
    "    percentage_a = (count_a / total_length) * 100\n",
    "    percentage_t = (count_t / total_length) * 100\n",
    "    percentage_g = (count_g / total_length) * 100\n",
    "    percentage_c = (count_c / total_length) * 100\n",
    "\n",
    "    # Display the results\n",
    "    print(f\"Percentage of A: {percentage_a:.2f}%\")\n",
    "    print(f\"Percentage of T: {percentage_t:.2f}%\")\n",
    "    print(f\"Percentage of G: {percentage_g:.2f}%\")\n",
    "    print(f\"Percentage of C: {percentage_c:.2f}%\")\n",
    "\n",
    "# Get DNA sequence input from the user\n",
    "dna_sequence = input(\"Enter a DNA sequence: \")\n",
    "calculate_nucleotide_percentage(dna_sequence)\n"
   ]
  }
 ],
 "metadata": {
  "kernelspec": {
   "display_name": "base",
   "language": "python",
   "name": "python3"
  },
  "language_info": {
   "codemirror_mode": {
    "name": "ipython",
    "version": 3
   },
   "file_extension": ".py",
   "mimetype": "text/x-python",
   "name": "python",
   "nbconvert_exporter": "python",
   "pygments_lexer": "ipython3",
   "version": "3.12.4"
  }
 },
 "nbformat": 4,
 "nbformat_minor": 2
}
