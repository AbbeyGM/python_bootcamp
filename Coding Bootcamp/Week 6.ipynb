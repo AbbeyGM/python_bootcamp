{
 "cells": [
  {
   "cell_type": "markdown",
   "metadata": {},
   "source": [
    "# Week 6 - Data Collection and files"
   ]
  },
  {
   "cell_type": "markdown",
   "metadata": {},
   "source": [
    "# Dictionaries"
   ]
  },
  {
   "cell_type": "code",
   "execution_count": 1,
   "metadata": {},
   "outputs": [
    {
     "name": "stdout",
     "output_type": "stream",
     "text": [
      "{'name': 'Morty', 'age': 26}\n"
     ]
    }
   ],
   "source": [
    "# unordered data, which is stored in key-value pairs - ie. like a real dictionary - word and definition - cant access using index\n",
    "# Keys can be declared with ONLY strings or numbers. There’s a colon that separates the key and value. After the colon is the value, and this can be any data\n",
    "\n",
    "# declaring a dictionary variable\n",
    "empty = { } # empty dictionary\n",
    "person = { \"name\": \"John Smith\" }\n",
    "# dictionary with one key/value pair\n",
    "customer = {\n",
    "\"name\": \"Morty\",\n",
    "\"age\": 26\n",
    "} # dictionary with two key/value pairs\n",
    "print(customer)"
   ]
  },
  {
   "cell_type": "code",
   "execution_count": 4,
   "metadata": {},
   "outputs": [
    {
     "name": "stdout",
     "output_type": "stream",
     "text": [
      "John\n"
     ]
    }
   ],
   "source": [
    "# accessing dictionary information through keys\n",
    "person = {\"name\": \"John\"}\n",
    "print( person[ \"name\" ] ) # access information through the key"
   ]
  },
  {
   "cell_type": "code",
   "execution_count": null,
   "metadata": {},
   "outputs": [
    {
     "name": "stdout",
     "output_type": "stream",
     "text": [
      "John\n",
      "Age is not available.\n"
     ]
    }
   ],
   "source": [
    "# using the .get method to access dictionary information\n",
    "person = { \"name\": \"John\" }\n",
    "print( person.get(\"name\") ) # retrieves value of name key as before\n",
    "print( person.get(\"age\", \"Age is not available.\") ) # get is a secure way to retrieve information"
   ]
  },
  {
   "cell_type": "code",
   "execution_count": 6,
   "metadata": {},
   "outputs": [
    {
     "name": "stdout",
     "output_type": "stream",
     "text": [
      "baseball\n"
     ]
    }
   ],
   "source": [
    "# storing a list within a dictionary and accessing it\n",
    "data = { \"sports\": [ \"baseball\", \"football\", \"hockey\", \"soccer\" ] }\n",
    "print( data[\"sports\"][0] ) # first access the key, then the index"
   ]
  },
  {
   "cell_type": "code",
   "execution_count": null,
   "metadata": {},
   "outputs": [
    {
     "ename": "ValueError",
     "evalue": "dictionary update sequence element #0 has length 8; 2 is required",
     "output_type": "error",
     "traceback": [
      "\u001b[1;31m---------------------------------------------------------------------------\u001b[0m",
      "\u001b[1;31mValueError\u001b[0m                                Traceback (most recent call last)",
      "Cell \u001b[1;32mIn[7], line 3\u001b[0m\n\u001b[0;32m      1\u001b[0m \u001b[38;5;66;03m# improperly storing a list within a dictionary\u001b[39;00m\n\u001b[0;32m      2\u001b[0m sports \u001b[38;5;241m=\u001b[39m [ \u001b[38;5;124m\"\u001b[39m\u001b[38;5;124mbaseball\u001b[39m\u001b[38;5;124m\"\u001b[39m, \u001b[38;5;124m\"\u001b[39m\u001b[38;5;124mfootball\u001b[39m\u001b[38;5;124m\"\u001b[39m, \u001b[38;5;124m\"\u001b[39m\u001b[38;5;124mhockey\u001b[39m\u001b[38;5;124m\"\u001b[39m, \u001b[38;5;124m\"\u001b[39m\u001b[38;5;124msoccer\u001b[39m\u001b[38;5;124m\"\u001b[39m ]\n\u001b[1;32m----> 3\u001b[0m sports_dict \u001b[38;5;241m=\u001b[39m \u001b[38;5;28mdict\u001b[39m( sports )\n",
      "\u001b[1;31mValueError\u001b[0m: dictionary update sequence element #0 has length 8; 2 is required"
     ]
    }
   ],
   "source": [
    "# improperly storing a list within a dictionary\n",
    "sports = [ \"baseball\", \"football\", \"hockey\", \"soccer\" ]\n",
    "sports_dict = dict( sports ) # will produce error, no key - b need to stor a key associated with the sports variables"
   ]
  },
  {
   "cell_type": "code",
   "execution_count": 8,
   "metadata": {},
   "outputs": [
    {
     "name": "stdout",
     "output_type": "stream",
     "text": [
      "{'name': 'Kirsten'}\n",
      "Kirsten\n"
     ]
    }
   ],
   "source": [
    "# storing a dictionary within a list and accessing it\n",
    "data = [ \"John\", \"Dennis\", { \"name\": \"Kirsten\" } ]\n",
    "print( data[2] ) # the dictionary is in index 2\n",
    "print( data[2][\"name\"] ) # first access the index, then access the key"
   ]
  },
  {
   "cell_type": "code",
   "execution_count": 9,
   "metadata": {},
   "outputs": [
    {
     "name": "stdout",
     "output_type": "stream",
     "text": [
      "{'2018': 108, '2017': 93}\n",
      "108\n"
     ]
    }
   ],
   "source": [
    "# storing a dictionary within a dictionary and accessing it\n",
    "data = {\n",
    "\"team\": \"Boston Red Sox\",\n",
    "\"wins\": { \"2018\": 108, \"2017\": 93 }\n",
    "}\n",
    "print( data[\"wins\"] ) # will output the dictionary within the wins key\n",
    "print( data[\"wins\"][\"2018\"] ) # first access the wins key, then the next key"
   ]
  },
  {
   "cell_type": "markdown",
   "metadata": {},
   "source": [
    "# Monday Exercises"
   ]
  },
  {
   "cell_type": "code",
   "execution_count": 12,
   "metadata": {},
   "outputs": [
    {
     "name": "stdout",
     "output_type": "stream",
     "text": [
      "{'name': 'Abbey', 'age': '23'}\n"
     ]
    }
   ],
   "source": [
    "# User Input: Ask the user for their name and age, and then create a dictionary with those key-value pairs. Output the dictionary once created.\n",
    "\n",
    "name = input(\"What is your name\")\n",
    "age = input(\"What is your age\")\n",
    "\n",
    "answer = {\n",
    "    \"name\" : name,\n",
    "    \"age\" :age\n",
    "}\n",
    "print(answer)\n"
   ]
  },
  {
   "cell_type": "code",
   "execution_count": 20,
   "metadata": {},
   "outputs": [
    {
     "name": "stdout",
     "output_type": "stream",
     "text": [
      "['cheese', 'sausage', 'peppers']\n"
     ]
    }
   ],
   "source": [
    "# Output all the ingredients from the following list within the “ingredients” key using a for loop: pizza = { 'ingredients': ['cheese', 'sausage', 'peppers']\n",
    "\n",
    "pizza = {'ingredients': ['cheese', 'sausage', 'peppers']}\n",
    "\n",
    "for food in pizza:\n",
    "    print(pizza[\"ingredients\"])\n",
    "\n"
   ]
  },
  {
   "cell_type": "markdown",
   "metadata": {},
   "source": [
    "# Working with Dictionaries"
   ]
  },
  {
   "cell_type": "code",
   "execution_count": 22,
   "metadata": {},
   "outputs": [
    {
     "name": "stdout",
     "output_type": "stream",
     "text": [
      "Year: 2018 \t Color: Blue\n"
     ]
    }
   ],
   "source": [
    "# adding new key/value pairs to a dictionary\n",
    "car = { \"year\": 2018 }\n",
    "car[\"color\"] = \"Blue\"\n",
    "print( \"Year: {} \\t Color: {}\".format( car[\"year\"], car[\"color\"] ) )"
   ]
  },
  {
   "cell_type": "code",
   "execution_count": 23,
   "metadata": {},
   "outputs": [
    {
     "name": "stdout",
     "output_type": "stream",
     "text": [
      "Year: 2018 \t Color: Red\n"
     ]
    }
   ],
   "source": [
    "# updating a value for a key/value pair that already exists\n",
    "car = { \"year\": 2018, \"color\": \"Blue\" }\n",
    "car[\"color\"] = \"Red\"\n",
    "print( \"Year: {} \\t Color: {}\".format( car[\"year\"], car[\"color\"] ) )"
   ]
  },
  {
   "cell_type": "code",
   "execution_count": null,
   "metadata": {},
   "outputs": [
    {
     "name": "stdout",
     "output_type": "stream",
     "text": [
      "{}\n"
     ]
    }
   ],
   "source": [
    "# deleting a key/value pair from a dictionary       #If the key you’re trying to remove doesn’t exist, it will crash the program. To avoid that problem, we use a try/except.\n",
    "car = { \"year\": 2018 }\n",
    "try:\n",
    "    del car[\"year\"]\n",
    "    print(car)\n",
    "except:\n",
    "    print(\"That key does not exist\")"
   ]
  },
  {
   "cell_type": "code",
   "execution_count": 25,
   "metadata": {},
   "outputs": [
    {
     "name": "stdout",
     "output_type": "stream",
     "text": [
      "name\n",
      "John\n",
      "age\n",
      "26\n"
     ]
    }
   ],
   "source": [
    "# looping over a dictionary via the keys\n",
    "person = { \"name\": \"John\", \"age\": 26 }\n",
    "for key in person.keys( ):\n",
    "    print(key)\n",
    "    print( person[key] ) # will output the value at the current key"
   ]
  },
  {
   "cell_type": "code",
   "execution_count": 27,
   "metadata": {},
   "outputs": [
    {
     "name": "stdout",
     "output_type": "stream",
     "text": [
      "John\n",
      "26\n"
     ]
    }
   ],
   "source": [
    "# looping over a dictionary via the values\n",
    "person = { \"name\": \"John\", \"age\": 26 }\n",
    "for value in person.values():\n",
    "    print(value)"
   ]
  },
  {
   "cell_type": "code",
   "execution_count": 31,
   "metadata": {},
   "outputs": [
    {
     "name": "stdout",
     "output_type": "stream",
     "text": [
      "name: John\n",
      "age: 26\n"
     ]
    }
   ],
   "source": [
    "# looping over a dictionary via the key/value pair\n",
    "person = { \"name\": \"John\", \"age\": 26 }\n",
    "for key, value in person.items():\n",
    "    print( \"{}: {}\".format(key, value) )"
   ]
  },
  {
   "cell_type": "markdown",
   "metadata": {},
   "source": [
    "# Tuesday Exercises"
   ]
  },
  {
   "cell_type": "code",
   "execution_count": null,
   "metadata": {},
   "outputs": [
    {
     "name": "stdout",
     "output_type": "stream",
     "text": [
      "You entereded the following information {'name': 'Abbey Muller', 'address': '101 cool lane, cool place, cool country', 'number': '0123456789'}\n"
     ]
    }
   ],
   "source": [
    "# Declare an empty dictionary. Ask the user for their name, address, and number. Add that information to the dictionary and iterate over it to show the user.\n",
    "\n",
    "info = {}\n",
    "info[\"name\"] = input(\"What is your full name?\")\n",
    "info[\"address\"] = input(\"What is your address?\")\n",
    "info[\"number\"] = input(\"What is your number?\")\n",
    "\n",
    "print(\"You entereded the following information {}\".format(info))\n"
   ]
  },
  {
   "cell_type": "code",
   "execution_count": 35,
   "metadata": {},
   "outputs": [
    {
     "name": "stdout",
     "output_type": "stream",
     "text": [
      "John Smith\n"
     ]
    }
   ],
   "source": [
    "# What is wrong with the following code:\n",
    "#v >>> person = { 'name', 'John Smith' }\n",
    "# >>> print(person['name'])\n",
    "\n",
    "# Need a colon between key and value\n",
    "\n",
    "person = { 'name': 'John Smith' }\n",
    "print(person['name'])\n",
    "\n"
   ]
  },
  {
   "cell_type": "markdown",
   "metadata": {},
   "source": [
    "# Tuples, Sets, Frozensets"
   ]
  },
  {
   "cell_type": "code",
   "execution_count": null,
   "metadata": {},
   "outputs": [],
   "source": [
    "# A tuple is identical to a list, except it is immutable - cannot be altered once declared. Ordered like a list"
   ]
  },
  {
   "cell_type": "code",
   "execution_count": 36,
   "metadata": {},
   "outputs": [
    {
     "name": "stdout",
     "output_type": "stream",
     "text": [
      "<class 'tuple'> <class 'tuple'>\n"
     ]
    },
    {
     "ename": "TypeError",
     "evalue": "'tuple' object does not support item assignment",
     "output_type": "error",
     "traceback": [
      "\u001b[1;31m---------------------------------------------------------------------------\u001b[0m",
      "\u001b[1;31mTypeError\u001b[0m                                 Traceback (most recent call last)",
      "Cell \u001b[1;32mIn[36], line 5\u001b[0m\n\u001b[0;32m      3\u001b[0m t2 \u001b[38;5;241m=\u001b[39m \u001b[38;5;28;01mTrue\u001b[39;00m, \u001b[38;5;241m1\u001b[39m \u001b[38;5;66;03m# without parens\u001b[39;00m\n\u001b[0;32m      4\u001b[0m \u001b[38;5;28mprint\u001b[39m( \u001b[38;5;28mtype\u001b[39m(t1), \u001b[38;5;28mtype\u001b[39m(t2) ) \u001b[38;5;66;03m# both are tuples\u001b[39;00m\n\u001b[1;32m----> 5\u001b[0m t1[\u001b[38;5;241m0\u001b[39m] \u001b[38;5;241m=\u001b[39m \u001b[38;5;241m1\u001b[39m\n",
      "\u001b[1;31mTypeError\u001b[0m: 'tuple' object does not support item assignment"
     ]
    }
   ],
   "source": [
    "# declaring a tuple\n",
    "t1 = (\"hello\", 2, \"hello\") # with parens\n",
    "t2 = True, 1 # without parens\n",
    "print( type(t1), type(t2) ) # both are tuples\n",
    "t1[0] = 1 # will crash, tuples are immutable once declared"
   ]
  },
  {
   "cell_type": "code",
   "execution_count": null,
   "metadata": {},
   "outputs": [],
   "source": [
    "# A set is a collection of information like a list; however, like a key in a dictionary, sets can only contain unique values. They are also an unordered collection"
   ]
  },
  {
   "cell_type": "code",
   "execution_count": null,
   "metadata": {},
   "outputs": [
    {
     "name": "stdout",
     "output_type": "stream",
     "text": [
      "<class 'set'> <class 'set'>\n",
      "{2, 3, 5}\n"
     ]
    }
   ],
   "source": [
    "# declaring a set\n",
    "s1 = set( [1, 2, 3, 1] ) # uses the set keyword and square brackets\n",
    "s2 = {4, 4, 5} # uses curly brackets, like dictionary\n",
    "print( type(s1), type(s2) )\n",
    "s1.add(5) # using the add method to add new items to a set\n",
    "s1.remove(1) # using the remove method to get rid of the value 1\n",
    "print(s1)"
   ]
  },
  {
   "cell_type": "code",
   "execution_count": 38,
   "metadata": {},
   "outputs": [
    {
     "name": "stdout",
     "output_type": "stream",
     "text": [
      "<class 'frozenset'>\n"
     ]
    }
   ],
   "source": [
    "# Frozensets are essentially the combination of a set and a tuple. They are immutable, unordered, and unique. - perfect for sensitive information\n",
    "\n",
    "# declaring a frozenset\n",
    "fset = frozenset( [1, 2, 3, 4] )\n",
    "print( type(fset) )"
   ]
  },
  {
   "attachments": {
    "image.png": {
     "image/png": "[encoded data removed]"
    }
   },
   "cell_type": "markdown",
   "metadata": {},
   "source": [
    "![image.png](attachment:image.png)"
   ]
  },
  {
   "cell_type": "markdown",
   "metadata": {},
   "source": [
    "# Wednesday Exercises"
   ]
  },
  {
   "cell_type": "code",
   "execution_count": 43,
   "metadata": {},
   "outputs": [
    {
     "name": "stdout",
     "output_type": "stream",
     "text": [
      "frozenset({'122324, 45345, 234234, 3445324'})\n"
     ]
    }
   ],
   "source": [
    "# Ask the user to input as many bank account numbers as they’d like, and store them within a list initially. Once the user is done entering information, convert the list to a frozenset and print it out.\n",
    "\n",
    "baccount = input(\"Please enter your list of bank accounts\")\n",
    "list = [baccount]\n",
    "frzlist = frozenset(list)\n",
    "print(frzlist)"
   ]
  },
  {
   "cell_type": "code",
   "execution_count": 44,
   "metadata": {},
   "outputs": [
    {
     "name": "stdout",
     "output_type": "stream",
     "text": [
      "Bank account numbers are: frozenset({'2222', '4444', '1222', '3333'})\n"
     ]
    }
   ],
   "source": [
    "# bank accounts\n",
    "\n",
    "account_num = []        #empty list\n",
    "\n",
    "while True:\n",
    "    account = input(\"Enter your bank account numbers, enter as many as you would like, when finished: type done\")\n",
    "    if account.lower() == \"done\":\n",
    "        break\n",
    "    account_num.append(account)\n",
    "\n",
    "account_num_fset = frozenset(account_num)\n",
    "\n",
    "print(\"Bank account numbers are:\", account_num_fset)"
   ]
  },
  {
   "cell_type": "code",
   "execution_count": 53,
   "metadata": {},
   "outputs": [
    {
     "name": "stdout",
     "output_type": "stream",
     "text": [
      "{10, 3, 4, 7}\n"
     ]
    }
   ],
   "source": [
    "# Convert the following list into a set of unique values. Print it out after to check there are no duplicates: >>> nums = [3, 4, 3, 7, 10]\n",
    "\n",
    "nums = [3,4,3,7,10]\n",
    "\n",
    "nums_set = set(nums)\n",
    "\n",
    "print(nums_set)"
   ]
  },
  {
   "cell_type": "markdown",
   "metadata": {},
   "source": [
    "# Reading and writing files"
   ]
  },
  {
   "cell_type": "code",
   "execution_count": null,
   "metadata": {},
   "outputs": [
    {
     "name": "stdout",
     "output_type": "stream",
     "text": [
      "this is a test\n"
     ]
    }
   ],
   "source": [
    "# opening/creating and writing to a text file\n",
    "f = open(\"test.txt\", \"w+\") # open file in writing and reading mode  - Mode “w” will overwrite the entire file. Use “a” for appending.\n",
    "# probably more elegant to define a file_name variable which is called \"text.txt\" then use file_name in the subsequent blocks\n",
    "f.write(\"this is a test\")\n",
    "f.close( )  # Anytime you open a file, you must always close it.\n",
    "# reading from a text file\n",
    "f = open(\"test.txt\", \"r\")\n",
    "data = f.read( )    #read all the contents of the file into a single string-  which is assigned to data variable\n",
    "f.close( )\n",
    "print(data)"
   ]
  },
  {
   "cell_type": "code",
   "execution_count": null,
   "metadata": {},
   "outputs": [],
   "source": [
    "#   CSV files work with data by separating a comma between each cell. This is known as a tabular data structure.\n",
    "# opening/creating and writing to a csv file\n",
    "import csv      #python has a defaul library called csv - here we have imported it\n",
    "with open(\"test.csv\", mode=\"w\", newline=\"\") as f: # with works like a loop that does the open, manipulate and close - so while file is open we can work with it - w mode = write - newline string empty so doesnt create empty lines between rows\n",
    "    writer = csv.writer(f, delimiter=\",\")       #writer variable allows us to write\n",
    "    writer.writerow( [\"Name\", \"City\"] )\n",
    "    writer.writerow( [\"Craig Lou\", \"Taiwan\"] )\n",
    "    # once block is complete the file closes"
   ]
  },
  {
   "cell_type": "code",
   "execution_count": null,
   "metadata": {},
   "outputs": [
    {
     "name": "stdout",
     "output_type": "stream",
     "text": [
      "['Name', 'City']\n",
      "['Craig Lou', 'Taiwan']\n"
     ]
    }
   ],
   "source": [
    "# reading from csv files\n",
    "with open(\"test.csv\", mode=\"r\") as f:\n",
    "    reader = csv.reader(f, delimiter=\",\")\n",
    "    for row in reader:\n",
    "        print(row)\n",
    "\n",
    "#We opened the file in read mode as the variable f. We then create a reader object through the CSV library which reads the contents in the file for us. \n",
    "# Then we loop over the reader variable and print out each piece of data."
   ]
  },
  {
   "attachments": {
    "image.png": {
     "image/png": "[encoded data removed]"
    }
   },
   "cell_type": "markdown",
   "metadata": {},
   "source": [
    "![image.png](attachment:image.png)"
   ]
  },
  {
   "cell_type": "markdown",
   "metadata": {},
   "source": [
    "# Thursday Exercises"
   ]
  },
  {
   "cell_type": "code",
   "execution_count": 51,
   "metadata": {},
   "outputs": [
    {
     "name": "stdout",
     "output_type": "stream",
     "text": [
      "The users fav number is: 23\n"
     ]
    }
   ],
   "source": [
    "# User Input: Ask a user for their favorite number, and save it to a text file.\n",
    "\n",
    "fav_num = input(\"what is your favourite number?\")\n",
    "f = open(\"fav number\", \"w+\") # open file in writing and reading mode  - Mode “w” will overwrite the entire file. Use “a” for appending.\n",
    "f.write(\"The users fav number is: {}\".format(fav_num))\n",
    "f.close( )  # Anytime you open a file, you must always close it.\n",
    "# reading from a text file\n",
    "f = open(\"fav number\", \"r\")\n",
    "data = f.read( )    #read all the contents of the file into a single string-  which is assigned to data variable\n",
    "f.close( )\n",
    "print(data)"
   ]
  },
  {
   "cell_type": "code",
   "execution_count": 54,
   "metadata": {},
   "outputs": [],
   "source": [
    "#Data Dumping: Using the dictionary of following data, save the information to a csv file with the keys as the headers and the values as the rows of data:\n",
    "\n",
    "import csv\n",
    "\n",
    "data = {\n",
    "    'name' : ['Dave','Denis','Peter','Jess'],\n",
    "    'language' : ['Python','C','Java','Python']\n",
    "}\n",
    "\n",
    "\n",
    "with open(\"data.csv\",mode=\"w\",newline=\"\") as f:\n",
    "    writer = csv.writer(f)\n",
    "    writer.writerow(data.keys())\n",
    "   \n",
    "    #for value in data.values():\n",
    "    #    writer.writerow(value)         # This doesn't work, as it prints all values in single row\n",
    "    num_rows = len(next(iter(data.values())))\n",
    "    for i in range(num_rows):\n",
    "        row = [data[key][i] for key in data]\n",
    "        writer.writerow(row)"
   ]
  },
  {
   "cell_type": "markdown",
   "metadata": {},
   "source": [
    "# Firday Project: Creating a user database with CSV files"
   ]
  },
  {
   "cell_type": "code",
   "execution_count": null,
   "metadata": {},
   "outputs": [],
   "source": [
    "# This week’s project is all about logic. We need to understand how to set up a step-by-step\n",
    "#process for logging users in and out. There are three main parts to this program, registering\n",
    "# a user, logging a user in, and the main loop that will run the program"
   ]
  },
  {
   "cell_type": "code",
   "execution_count": 57,
   "metadata": {},
   "outputs": [
    {
     "name": "stdout",
     "output_type": "stream",
     "text": [
      "Thanks for using our software!\n"
     ]
    }
   ],
   "source": [
    "# import all necessary packages to be used\n",
    "import csv\n",
    "from IPython.display import clear_output\n",
    "\n",
    "# handle user registration and writing to csv\n",
    "def registerUser( ):\n",
    "    with open(\"users.csv\", mode=\"a\", newline=\"\") as f:\n",
    "        writer = csv.writer(f, delimiter=\",\")\n",
    "\n",
    "        print(\"To register, please enter your info:\")\n",
    "        email = input(\"E-mail: \")\n",
    "        password = input(\"Password: \")\n",
    "        password2 = input(\"Re-type password: \")\n",
    "\n",
    "        clear_output( )\n",
    "\n",
    "        if password == password2:\n",
    "            writer.writerow( [email, password] )\n",
    "            print(\"You are now registered!\")\n",
    "        else:\n",
    "            print(\"Something went wrong. Try again.\")\n",
    "\n",
    "# ask for user info and return true to login or false if incorrect info\n",
    "def loginUser( ):\n",
    "    print(\"To login, please enter your info:\")\n",
    "    email = input(\"E-mail: \")\n",
    "    password = input(\"Password: \")\n",
    "\n",
    "    clear_output( )\n",
    "\n",
    "    with open(\"users.csv\", mode=\"r\") as f:\n",
    "        reader = csv.reader(f, delimiter=\",\")\n",
    "\n",
    "        for row in reader:\n",
    "            if row == [email, password]:\n",
    "                print(\"You are now logged in!\")\n",
    "                return True\n",
    "\n",
    "    print(\"Something went wrong, try again.\")\n",
    "    return False\n",
    "\n",
    "#variables for main loop\n",
    "active = True\n",
    "logged_in = False\n",
    "\n",
    "# Main loop\n",
    "while active:\n",
    "    if logged_in:\n",
    "        print(\"1. Logout\\n2. Quit\")\n",
    "    else:\n",
    "        print(\"1. Login\\n2. Register\\n3. Quit\")\n",
    "    \n",
    "    choice = input(\"What would you like to do? \").lower( )\n",
    "    \n",
    "    clear_output( )\n",
    "\n",
    "    if choice == \"register\" and logged_in == False:\n",
    "        registerUser( )\n",
    "    elif choice == \"login\" and logged_in == False:\n",
    "        logged_in = loginUser( )\n",
    "    elif choice == \"quit\":\n",
    "        active = False\n",
    "        print(\"Thanks for using our software!\")\n",
    "    elif choice == \"logout\" and logged_in == True:\n",
    "        logged_in = False\n",
    "        print(\"You are now logged out.\")\n",
    "    else:\n",
    "        print(\"Sorry, please try again!\")"
   ]
  },
  {
   "cell_type": "markdown",
   "metadata": {},
   "source": [
    "# Matt's Workshop"
   ]
  },
  {
   "cell_type": "code",
   "execution_count": 72,
   "metadata": {},
   "outputs": [
    {
     "name": "stdout",
     "output_type": "stream",
     "text": [
      "<class 'dict'>\n",
      "['Maths', 'Visualisation', 'GPCR']\n",
      "Maths\n",
      "The people are: Matt\n",
      "The people are: Theo\n",
      "The people are: Kenta\n",
      "The fields of research are: Maths\n",
      "The fields of research are: Visualisation\n",
      "The fields of research are: GPCR\n"
     ]
    }
   ],
   "source": [
    "#Dictionary\n",
    "\n",
    "sciences = {\n",
    "    \"people\" : [\"Matt\", \"Theo\", \"Kenta\"],\n",
    "    \"FieldOfResearch\" : [\"Maths\", \"Visualisation\", \"GPCR\"]\n",
    "}\n",
    "print(type(sciences))\n",
    "\n",
    "# Accessing information in a dictionary\n",
    "\n",
    "print(sciences[\"FieldOfResearch\"])\n",
    "\n",
    "#Write a print statement that prints the first value of the field or research list\n",
    "\n",
    "print(sciences[\"FieldOfResearch\"][0])\n",
    "\n",
    "# Write a loop that prints out each people and each field of research\n",
    "for item in sciences[\"people\"]:\n",
    "    print(\"The people are: {}\".format(item))\n",
    "for item in sciences[\"FieldOfResearch\"]:\n",
    "    print(\"The fields of research are: {}\".format(item))"
   ]
  },
  {
   "cell_type": "code",
   "execution_count": null,
   "metadata": {},
   "outputs": [
    {
     "name": "stdout",
     "output_type": "stream",
     "text": [
      "{'Favourite Food': 'Chocolate'}\n"
     ]
    }
   ],
   "source": [
    "# Declare an empty dictionary:\n",
    "# Ask the user for the key \n",
    "# Ask for the value\n",
    "#Write into a dictionary\n",
    "#Print dictionary\n",
    "\n",
    "dict = {}\n",
    "\n",
    "key = input(\"What would you like the key to be?\")\n",
    "value = input(\"What values would you like to be associated with that key?\")\n",
    "\n",
    "dict[key] = value\n",
    "    \n",
    "print(dict)\n",
    "\n",
    "# Need to use a while loop if you wanted the value to be multiple "
   ]
  },
  {
   "cell_type": "code",
   "execution_count": 5,
   "metadata": {},
   "outputs": [
    {
     "name": "stdout",
     "output_type": "stream",
     "text": [
      "{'people': ['Matt', 'Theo', 'Kenta'], 'FieldOfResearch': ['Maths', 'Visualisation', 'GPCR'], 'Favourite Chocolate': 'Crunchie'}\n",
      "{'FieldOfResearch': ['Maths', 'Visualisation', 'GPCR'], 'Favourite Chocolate': 'Crunchie'}\n"
     ]
    }
   ],
   "source": [
    "# getting users to add new key and value to a pre-existing dictionary\n",
    "\n",
    "sciences = {\n",
    "    \"people\" : [\"Matt\", \"Theo\", \"Kenta\"],\n",
    "    \"FieldOfResearch\" : [\"Maths\", \"Visualisation\", \"GPCR\"]\n",
    "}\n",
    "\n",
    "new_key = input(\"What new key would you like to add?\")\n",
    "new_value = input(\"What new value would you like to add?\")\n",
    "\n",
    "sciences[new_key] = new_value\n",
    "    \n",
    "print(sciences)\n",
    "\n",
    "#Ask the use which key value to delete, then write a try/except statement to achieve this, then print new dictionary\n",
    "\n",
    "delete_key = input(\"What key would you like to delete?\")\n",
    "try:\n",
    "    del sciences[delete_key]\n",
    "    print(sciences)\n",
    "except:\n",
    "    print(\"That key does not exist\")"
   ]
  }
 ],
 "metadata": {
  "kernelspec": {
   "display_name": "base",
   "language": "python",
   "name": "python3"
  },
  "language_info": {
   "codemirror_mode": {
    "name": "ipython",
    "version": 3
   },
   "file_extension": ".py",
   "mimetype": "text/x-python",
   "name": "python",
   "nbconvert_exporter": "python",
   "pygments_lexer": "ipython3",
   "version": "3.12.4"
  }
 },
 "nbformat": 4,
 "nbformat_minor": 2
}
