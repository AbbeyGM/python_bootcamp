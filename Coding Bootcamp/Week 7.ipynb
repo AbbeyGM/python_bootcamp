{
 "cells": [
  {
   "cell_type": "markdown",
   "metadata": {},
   "source": [
    "# Week 7 - Object-Oriented Programming"
   ]
  },
  {
   "cell_type": "code",
   "execution_count": 1,
   "metadata": {},
   "outputs": [
    {
     "name": "stdout",
     "output_type": "stream",
     "text": [
      "10\n"
     ]
    }
   ],
   "source": [
    "values = { 4:4, 8:8, \"Q\":10, \"ACE\":11 }\n",
    "card = (\"Q\", \"Hearts\")\n",
    "print(\"{}\".format(values[ card[ 0 ] ] ) )"
   ]
  },
  {
   "cell_type": "markdown",
   "metadata": {},
   "source": [
    "# Creating and Instantiating a class"
   ]
  },
  {
   "cell_type": "code",
   "execution_count": null,
   "metadata": {},
   "outputs": [],
   "source": [
    "# creating your first class - they dont do anything until you add an instance\n",
    "class Car( ):\n",
    "    pass # simply using as a placeholder until we add more code "
   ]
  },
  {
   "cell_type": "code",
   "execution_count": 4,
   "metadata": {},
   "outputs": [
    {
     "name": "stdout",
     "output_type": "stream",
     "text": [
      "<__main__.Car object at 0x000002663B973E60>\n"
     ]
    }
   ],
   "source": [
    "# instantiating an object from a class\n",
    "class Car( ): # parens are optional here\n",
    "    pass\n",
    "ford = Car( ) # creates an instance of the Car class and stores into the variable ford\n",
    "print(ford)"
   ]
  },
  {
   "cell_type": "code",
   "execution_count": 5,
   "metadata": {},
   "outputs": [
    {
     "name": "stdout",
     "output_type": "stream",
     "text": [
      "164881855429\n",
      "164881855462\n"
     ]
    }
   ],
   "source": [
    "# instantiating multiple objects from the same class\n",
    "class Car( ):\n",
    "    pass\n",
    "ford = Car( )\n",
    "subaru = Car( ) # creates another object from the car class\n",
    "print( hash(ford) )\n",
    "print( hash(subaru) ) # hash outputs a numerical representation of the location in memory for the variable"
   ]
  },
  {
   "cell_type": "markdown",
   "metadata": {},
   "source": [
    "# Monday Exercises"
   ]
  },
  {
   "cell_type": "code",
   "execution_count": 8,
   "metadata": {},
   "outputs": [
    {
     "name": "stdout",
     "output_type": "stream",
     "text": [
      "<__main__.Animals object at 0x000002663B9AD610> <__main__.Animals object at 0x000002663B9725D0>\n"
     ]
    }
   ],
   "source": [
    "# Animals: Create a class called “Animals,” and create two instances from it. Use two variables with names of “lion” and “tiger.”\n",
    "\n",
    "class Animals():\n",
    "    pass\n",
    "lion = Animals()\n",
    "Tiger = Animals()\n",
    "print(lion, Tiger)"
   ]
  },
  {
   "cell_type": "code",
   "execution_count": null,
   "metadata": {},
   "outputs": [],
   "source": [
    "#Problem-Solving: What’s wrong with the following code?\n",
    ">>> class Bus:\n",
    ">>>     pass\n",
    ">>> school_bus = Bus( )\n",
    "\n",
    "# No () after Bus"
   ]
  },
  {
   "cell_type": "markdown",
   "metadata": {},
   "source": [
    "# Attributes"
   ]
  },
  {
   "cell_type": "code",
   "execution_count": 12,
   "metadata": {},
   "outputs": [
    {
     "name": "stdout",
     "output_type": "stream",
     "text": [
      "red\n"
     ]
    }
   ],
   "source": [
    "# how to define a class attribute\n",
    "class Car( ):\n",
    "    sound = \"beep\" # all car objects will have this sound attribute and its' value\n",
    "    color = \"red\" # all car objects will have this color attribute and its' value\n",
    "ford = Car( )\n",
    "print(ford.color) # known as 'dot syntax'\n",
    "\n",
    "#access an object’s attribute, you use dot syntax. You start by writing the name of the instance, followed by a dot and the attribute you want to access."
   ]
  },
  {
   "cell_type": "code",
   "execution_count": 13,
   "metadata": {},
   "outputs": [
    {
     "name": "stdout",
     "output_type": "stream",
     "text": [
      "beep\n",
      "honk\n"
     ]
    }
   ],
   "source": [
    "# changing the value of an attribute\n",
    "class Car( ):\n",
    "    sound = \"beep\"\n",
    "    color = \"red\"\n",
    "ford = Car( )\n",
    "print(ford.sound) # will output 'beep'\n",
    "ford.sound = \"honk\" # from now on the value of fords sound is honk, this does not affect other instances\n",
    "print(ford.sound) # will output 'honk'"
   ]
  },
  {
   "cell_type": "code",
   "execution_count": 15,
   "metadata": {},
   "outputs": [
    {
     "name": "stdout",
     "output_type": "stream",
     "text": [
      "blue\n"
     ]
    }
   ],
   "source": [
    "# using the init method to give instances personalized attributes upon creation\n",
    "\n",
    "class Car():\n",
    "        def __init__(self, colour):\n",
    "                self.colour = colour    # Sets the attribute colour to the value passed in\n",
    "ford = Car(\"blue\")      # instantiating a Car class with the colour blue\n",
    "print(ford.colour)"
   ]
  },
  {
   "cell_type": "markdown",
   "metadata": {},
   "source": [
    "When you want to instantiate an object with personalized attributes, you need to have the init method declared and use the self keyword to save each attributes value."
   ]
  },
  {
   "cell_type": "code",
   "execution_count": 16,
   "metadata": {},
   "outputs": [
    {
     "name": "stdout",
     "output_type": "stream",
     "text": [
      "blue 2016\n",
      "red 2018\n"
     ]
    }
   ],
   "source": [
    "# defining different values for multiple instances\n",
    "class Car( ):\n",
    "    def __init__(self, colour, year):\n",
    "        self.color = colour # sets the attribute colour to the value passed in\n",
    "        self.year = year\n",
    "ford = Car(\"blue\", 2016) # create a car object with the color blue and year 2016\n",
    "subaru = Car(\"red\", 2018) # create a car object with the color red and year 2018\n",
    "print(ford.color, ford.year)\n",
    "print(subaru.color, subaru.year)"
   ]
  },
  {
   "cell_type": "code",
   "execution_count": 19,
   "metadata": {},
   "outputs": [
    {
     "name": "stdout",
     "output_type": "stream",
     "text": [
      "beep\n",
      "beep blue\n"
     ]
    }
   ],
   "source": [
    "# Using and accessing a global class attribute\n",
    "\n",
    "class Car():\n",
    "    sound = \"beep\"  #global attribute, accessible through the class itself\n",
    "\n",
    "    def __init__(self, colour):\n",
    "        self.colour = colour    #instance specific attribute, not accessible through the class itself\n",
    "\n",
    "print(Car.sound)\n",
    "# print(car.colour) - wont work as colour is only available to instances of the car class, not the class itself\n",
    "\n",
    "ford = Car(\"blue\")\n",
    "print(ford.sound, ford.colour)\n"
   ]
  },
  {
   "cell_type": "markdown",
   "metadata": {},
   "source": [
    "# Tuesday Exercises"
   ]
  },
  {
   "cell_type": "code",
   "execution_count": 25,
   "metadata": {},
   "outputs": [
    {
     "name": "stdout",
     "output_type": "stream",
     "text": [
      "Canine Husky Sammi\n",
      "Canine Chocolate Lab Casey\n"
     ]
    }
   ],
   "source": [
    "# Dogs: Create a Dog class that has one global attribute and two instance level attributes. The global attribute should be “species” with a value of “Canine.”\n",
    "# The two instance attributes should be “name” and “breed.” Then instantiate two dog objects, a Husky named Sammi and a Chocolate Lab named Casey\n",
    "\n",
    "class Dog():\n",
    "    species = \"Canine\"\n",
    "\n",
    "    def __init__(self, name, breed):\n",
    "        self.name = name\n",
    "        self.breed = breed\n",
    "\n",
    "Sammi = Dog(\"Sammi\", \"Husky\")\n",
    "Casey = Dog(\"Casey\", \"Chocolate Lab\")\n",
    "print(Sammi.species,Sammi.breed, Sammi.name)\n",
    "print(Casey.species,Casey.breed, Casey.name)"
   ]
  },
  {
   "cell_type": "code",
   "execution_count": 36,
   "metadata": {},
   "outputs": [
    {
     "name": "stdout",
     "output_type": "stream",
     "text": [
      "Abbey\n"
     ]
    }
   ],
   "source": [
    "# User Input: Create a Person class that has a single instance level attribute of “name.” \n",
    "# Ask the user to input their name, and create an instance of the Person class with the name they typed in. \n",
    "# Then print out their name.\n",
    "\n",
    "#MATT'S EXAMPLE:\n",
    "class Person():\n",
    "    def __init__(self,name):\n",
    "        self.name = name\n",
    "\n",
    "name1 = input(\"What is your name? :\")\n",
    "\n",
    "person1 = Person(name1)\n",
    "\n",
    "print(person1.name)"
   ]
  },
  {
   "cell_type": "markdown",
   "metadata": {},
   "source": [
    "# Methods"
   ]
  },
  {
   "cell_type": "code",
   "execution_count": 37,
   "metadata": {},
   "outputs": [
    {
     "name": "stdout",
     "output_type": "stream",
     "text": [
      "bark\n"
     ]
    }
   ],
   "source": [
    "# defining and calling our first class method\n",
    "class Dog( ):\n",
    "    def makeSound(self):\n",
    "        print(\"bark\")\n",
    "sam = Dog( )\n",
    "sam.makeSound( )"
   ]
  },
  {
   "cell_type": "code",
   "execution_count": null,
   "metadata": {},
   "outputs": [
    {
     "name": "stdout",
     "output_type": "stream",
     "text": [
      "I am a dog.\n",
      "bark\n"
     ]
    }
   ],
   "source": [
    "# understanding which methods are accessible via the class itself and class instances\n",
    "\n",
    "class Dog():\n",
    "    sound = \"bark\"\n",
    "    def makeSound(self):\n",
    "        print(self.sound)\n",
    "    def printInfo():\n",
    "        print(\"I am a dog.\")\n",
    "Dog.printInfo()     #able to run printInfo method because it does not include self parameter - so is every time\n",
    "# Dog.makeSound()   Would produce error, self is in reference to instances only ie. defining an instance\n",
    "\n",
    "sam = Dog()\n",
    "sam.makeSound() #able to access, self can reference the instance of sam\n",
    "# sam.printInfo()  will produce error,methods that are not defined with self as a parameter cannot be accessed by instances of the class."
   ]
  },
  {
   "cell_type": "code",
   "execution_count": 41,
   "metadata": {},
   "outputs": [
    {
     "name": "stdout",
     "output_type": "stream",
     "text": [
      "6\n"
     ]
    }
   ],
   "source": [
    "# writing methods that accept parameters\n",
    "class Dog( ):\n",
    "    def showAge(self, age):\n",
    "        print(age) # does not need self, age is referencing the parameter not an attribute\n",
    "sam = Dog( )\n",
    "sam.showAge( 6 ) # passing the integer 6 as an argument to the showAge method"
   ]
  },
  {
   "cell_type": "code",
   "execution_count": null,
   "metadata": {},
   "outputs": [
    {
     "name": "stdout",
     "output_type": "stream",
     "text": [
      "Sammi\n"
     ]
    }
   ],
   "source": [
    "# using methods to set or return attribute values, proper programming practice\n",
    "class Dog( ):\n",
    "    name = ' ' #global attribute is empty -  would normally use init method to declare, this is for testing purposes\n",
    "    \n",
    "    def setName(self, new_name):        #this is the setter\n",
    "        self.name = new_name # declares the new value for the name attribute\n",
    "\n",
    "    def getName(self):  #this is the getter\n",
    "        return self.name # returns the value of the name attribute\n",
    "sam = Dog( )\n",
    "sam.setName(\"Sammi\")\n",
    "print( sam.getName( ) ) # prints the returned value of self.name"
   ]
  },
  {
   "cell_type": "code",
   "execution_count": 43,
   "metadata": {},
   "outputs": [
    {
     "name": "stdout",
     "output_type": "stream",
     "text": [
      "6\n"
     ]
    }
   ],
   "source": [
    "# incrementing/decrementing attribute values with methods, best programming practice\n",
    "class Dog( ):\n",
    "    age = 5\n",
    "    def happyBirthday(self):\n",
    "        self.age += 1\n",
    "sam = Dog( )\n",
    "sam.happyBirthday( ) # calls method to increment value by one\n",
    "print(sam.age) # better practice use getters, this is for testing purposes"
   ]
  },
  {
   "cell_type": "code",
   "execution_count": 44,
   "metadata": {},
   "outputs": [
    {
     "name": "stdout",
     "output_type": "stream",
     "text": [
      "Puppy!\n"
     ]
    }
   ],
   "source": [
    "# calling a class method from another method\n",
    "class Dog( ):\n",
    "    age = 6\n",
    "    def getAge(self):\n",
    "        return self.age\n",
    "    def printInfo(self):\n",
    "        if self.getAge( ) < 10: # need self to call other method for an instance\n",
    "            print(\"Puppy!\")\n",
    "sam = Dog( )\n",
    "sam.printInfo( )"
   ]
  },
  {
   "cell_type": "code",
   "execution_count": 45,
   "metadata": {},
   "outputs": [
    {
     "name": "stdout",
     "output_type": "stream",
     "text": [
      "This is a dog class\n"
     ]
    }
   ],
   "source": [
    "# using magic methods\n",
    "class Dog( ):\n",
    "    def __str__(self):\n",
    "        return \"This is a dog class\"\n",
    "sam = Dog( )\n",
    "print(sam) # will print the return of the string magic method"
   ]
  },
  {
   "cell_type": "markdown",
   "metadata": {},
   "source": [
    "# Wednesday Exercises"
   ]
  },
  {
   "cell_type": "code",
   "execution_count": 47,
   "metadata": {},
   "outputs": [
    {
     "data": {
      "text/plain": [
       "'feline'"
      ]
     },
     "execution_count": 47,
     "metadata": {},
     "output_type": "execute_result"
    }
   ],
   "source": [
    "# Animals: Create a class definition of an animal that has a species attribute and both a setter and getter to change or access the attributes value. \n",
    "# Create an instance called “lion,” and call the setter method with an argument of “feline.”\n",
    "# Then print out the species by calling the getter method\n",
    "\n",
    "#MATT EXAMPLE\n",
    "class Animals():\n",
    "    def setSpecies(self, species):           \n",
    "        self.species = species    \n",
    "\n",
    "    def getSpecies(self):                     \n",
    "        return self.species\n",
    "    \n",
    "lion = Animals()\n",
    "lion.setSpecies(\"feline\")\n",
    "lion.getSpecies()"
   ]
  },
  {
   "cell_type": "code",
   "execution_count": null,
   "metadata": {},
   "outputs": [],
   "source": [
    "# User Input: Create a class Person that takes in a name when instantiated but sets an age to 0. \n",
    "# Within the class definition setup, a setter and getter that will ask the user to input their age and set the age attribute to the value input.\n",
    "# Then output the information in a formatted string as “You are 64 years old.” Assuming the user inputs 64 as their age."
   ]
  },
  {
   "cell_type": "markdown",
   "metadata": {},
   "source": [
    "# Inheritance"
   ]
  },
  {
   "cell_type": "code",
   "execution_count": 51,
   "metadata": {},
   "outputs": [
    {
     "name": "stdout",
     "output_type": "stream",
     "text": [
      "roar\n"
     ]
    }
   ],
   "source": [
    "# Inheriting a class and accessing the inherited method\n",
    "\n",
    "class animal():\n",
    "    def makeSound(self):\n",
    "        print(\"roar\")\n",
    "\n",
    "class Dog(animal):      # inheriting animal class\n",
    "    species = \"canine\"\n",
    "\n",
    "sam = Dog()\n",
    "sam.makeSound() # accesible through inheritance\n",
    "lion = animal()\n",
    "\n",
    "# lion.species, not accessible, inheritance doenst work backwards"
   ]
  },
  {
   "cell_type": "code",
   "execution_count": 52,
   "metadata": {},
   "outputs": [
    {
     "name": "stdout",
     "output_type": "stream",
     "text": [
      "Canine\n"
     ]
    }
   ],
   "source": [
    "# using the super( ) method to declare inherited attributes\n",
    "\n",
    "class Animal( ):\n",
    "    def __init__(self, species):\n",
    "        self.species = species\n",
    "\n",
    "class Dog(Animal):\n",
    "    def __init__(self, species, name):\n",
    "        self.name = name\n",
    "        super( ).__init__(species) # using super to declare the species attribute defined in Animal\n",
    "\n",
    "sam = Dog(\"Canine\", \"Sammi\")\n",
    "print(sam.species)"
   ]
  },
  {
   "cell_type": "code",
   "execution_count": 53,
   "metadata": {},
   "outputs": [
    {
     "name": "stdout",
     "output_type": "stream",
     "text": [
      "bark\n",
      "roar\n"
     ]
    }
   ],
   "source": [
    "# overriding methods defined in the superclass\n",
    "class Animal( ):\n",
    "    def makeSound(self):\n",
    "        print(\"roar\")\n",
    "\n",
    "class Dog(Animal):\n",
    "    def makeSound(self):\n",
    "        print(\"bark\")\n",
    "\n",
    "sam, lion = Dog( ), Animal( ) # declaring multiple variables on a single line\n",
    "\n",
    "sam.makeSound( ) # overriding will call the makeSound method in Dog\n",
    "lion.makeSound( ) # no overriding occurs as Animal does not inherit anything"
   ]
  },
  {
   "cell_type": "code",
   "execution_count": 57,
   "metadata": {},
   "outputs": [
    {
     "name": "stdout",
     "output_type": "stream",
     "text": [
      "9.8 Ford\n"
     ]
    }
   ],
   "source": [
    "# how to inherit multiple classes\n",
    "\n",
    "class Physics():\n",
    "    gravity = 9.8\n",
    "\n",
    "class Automobile():\n",
    "    def __init__(self, make, model, year):\n",
    "        self.make, self.model, self.year = make, model, year  #declaring all attributes on one line\n",
    "\n",
    "class Ford(Physics, Automobile):    # able to access Physics and Automobile attriobutes and methods\n",
    "    def __init__(self, model, year):\n",
    "        Automobile.__init__(self, \"Ford\", model, year)\n",
    "\n",
    "truck = Ford(\"F-150\", 2018)\n",
    "print(truck.gravity, truck.make)"
   ]
  },
  {
   "attachments": {
    "image.png": {
     "image/png": "[encoded data removed]"
    }
   },
   "cell_type": "markdown",
   "metadata": {},
   "source": [
    "# Thursday Exercises\n",
    "\n",
    "![image.png](attachment:image.png)"
   ]
  },
  {
   "cell_type": "markdown",
   "metadata": {},
   "source": [
    "# Friday: Creating Blackjack"
   ]
  },
  {
   "cell_type": "code",
   "execution_count": 103,
   "metadata": {},
   "outputs": [
    {
     "name": "stdout",
     "output_type": "stream",
     "text": [
      "\n",
      "Abbey\n",
      "===========\n",
      "K of Clubs\n",
      "Total = 28\n",
      "7 of Diamonds\n",
      "Total = 28\n",
      "3 of Spades\n",
      "Total = 28\n",
      "8 of Diamonds\n",
      "Total = 28\n",
      "\n",
      "Dealer\n",
      "===========\n",
      "8 of Clubs\n",
      "Total = 18\n",
      "J of Spades\n",
      "Total = 18\n",
      "You busted, better luck next time!\n"
     ]
    }
   ],
   "source": [
    "# importing necessary functions\n",
    "from random import randint  #allows us to get a random number\n",
    "from IPython.display import clear_output\n",
    "\n",
    "# create the blackjack class which will hold all game methods and attributes\n",
    "class Blackjack():\n",
    "    def __init__(self):\n",
    "        self.deck = []  #set to an empty list\n",
    "        self.suits = (\"Spades\", \"Hearts\", \"Diamonds\", \"Clubs\")\n",
    "        self.value = (2,3,4,5,6,7,8,9,10, \"J\", \"Q\", \"K\", \"A\")\n",
    "\n",
    "#create a method that creates a deck of 52 cards, each card should be a tuple with a value and a suit\n",
    "    def makeDeck(self):\n",
    "        for suit in self.suits:\n",
    "            for value in self.value:\n",
    "                self.deck.append((value, suit))     #eg. (7, hearts)\n",
    "\n",
    "#method to pop a card from deck using a random index value\n",
    "    def pullCard(self):\n",
    "        return self.deck.pop(randint(0,len(self.deck)-1))\n",
    "    \n",
    "# create a class for the dealer and player objects\n",
    "class Player():\n",
    "    def __init__(self, name):\n",
    "        self.name = name\n",
    "        self.hand = []\n",
    "\n",
    "#take in a tuple and append it to the hand\n",
    "    def addCard(self, card):\n",
    "        self.hand.append(card)\n",
    "\n",
    "#if not dealer's turn then only show one of his cards, otherwise sho all\n",
    "    def showHand(self, dealer_start = True):\n",
    "        print(\"\\n{}\".format(self.name))\n",
    "        print(\"===========\")\n",
    "\n",
    "        for i in range(len(self.hand)):\n",
    "            if self.name ==\"Dealer\" and i==0 and dealer_start:\n",
    "                print(\"- of- \") #hide first card\n",
    "            else:\n",
    "                card = self.hand[i]\n",
    "                print(\"{} of {}\".format(card[0],card[1]))\n",
    "            print(\"Total = {}\".format(self.calcHand(dealer_start)))\n",
    "\n",
    "#if not dealer's turn then only give back total of second\n",
    "    def calcHand(self,dealer_start = True):\n",
    "        total = 0\n",
    "        aces = 0 #calculate aces afterwards\n",
    "        card_values = {1:1, 2:2, 3:3, 4:4, 5:5, 6:6, 7:7, 8:8, 9:9, 10:10, \"J\":10, \"Q\":10, \"K\":10, \"A\":11}\n",
    "        \n",
    "        if self.name == \"Dealer\" and dealer_start:\n",
    "            card = self.hand[1]\n",
    "            return card_values[card[0]]\n",
    "        \n",
    "        for card in self.hand:\n",
    "            if card[0] == \"A\":\n",
    "                aces += 1\n",
    "            else:\n",
    "                total += card_values[card[0]]\n",
    "       \n",
    "        for i in range(aces):\n",
    "            if total + 11 >21:\n",
    "                total += 11\n",
    "            else:\n",
    "                total += 11\n",
    "        \n",
    "        return total\n",
    "\n",
    "game = Blackjack()\n",
    "game.makeDeck()\n",
    "\n",
    "name = input(\"What is your name?\")\n",
    "player = Player(name)\n",
    "dealer = Player(\"Dealer\")\n",
    "# print(player.name, dealer.name) # print(game.pullCard(), len(game.deck))  #print(game.deck) # remove, used for debugging\n",
    "#add two cars to dealer and player hand\n",
    "for i in range(2):\n",
    "    player.addCard(game.pullCard())\n",
    "    dealer.addCard(game.pullCard())\n",
    "\n",
    "# show both hands unsin method\n",
    "player.showHand()\n",
    "dealer.showHand()\n",
    "# print(\"Player Hand: {} \\nDealer Hand: {}\".format(player.hand, dealer.hand) ) # remove after)\n",
    "player_bust = False     #variable to keep track of player going over 21\n",
    "\n",
    "while input(\"Would you like to stay or hit?\").lower() != \"stay\":\n",
    "    clear_output()\n",
    "\n",
    "    #pull card and put into player's hand\n",
    "    player.addCard(game.pullCard())\n",
    "\n",
    "    #show both hands using method\n",
    "    player.showHand()\n",
    "    dealer.showHand()\n",
    "\n",
    "    #check if over 21\n",
    "    if player.calcHand() > 21:\n",
    "        player_bust = True#player busted, keep track for later\n",
    "        print(\"You lose!\")  #remove after running correctly\n",
    "        break #break out of the player's loop\n",
    "#handling dealer's turn, only run if player didn't bust\n",
    "dealer_bust = False\n",
    "if not player_bust:\n",
    "    while dealer.calcHand(False) < 17:      #pass False to calculate all cards\n",
    "\n",
    "        #pull card and put into player's hand\n",
    "        dealer.addCard(game.pullCard())\n",
    "\n",
    "        #check if over 21\n",
    "        if dealer.calcHand(False) > 21:     #pass False to calculate all cards\n",
    "            dealer_bust = True\n",
    "            break\n",
    "clear_output()\n",
    "#show both hands using method\n",
    "\n",
    "player.showHand()\n",
    "dealer.showHand(False)  ## pass False to calculate and show all cards, even when there are 2\n",
    "\n",
    "#calculate a winner\n",
    "if player_bust:\n",
    "    print(\"You busted, better luck next time!\")\n",
    "elif dealer_bust:\n",
    "    print(\"The dealer busted, you win!\")\n",
    "elif dealer.calcHand(False) > player.calcHand():\n",
    "    print(\"Dealer has higher cars, you lose!\")\n",
    "elif dealer.calcHand(False) < player.calcHand():\n",
    "    print(\"You beat the dealer! Congrats!\")\n",
    "else:\n",
    "    print(\"You pushed, no one wins\")"
   ]
  },
  {
   "cell_type": "markdown",
   "metadata": {},
   "source": [
    "# Matt's Workshop"
   ]
  },
  {
   "cell_type": "code",
   "execution_count": null,
   "metadata": {},
   "outputs": [],
   "source": [
    "#create a class an instantiate it:\n",
    "\n",
    "class CodingClass():        #object that doesnt do anything on its own (and also doesnt have any code bc have pass placeholder)\n",
    "    pass \n",
    "\n",
    "Abbey = CodingClass()       #until we instatiate it\n",
    "Matt = CodingClass()        #can create multiple instances"
   ]
  },
  {
   "cell_type": "code",
   "execution_count": null,
   "metadata": {},
   "outputs": [
    {
     "name": "stdout",
     "output_type": "stream",
     "text": [
      "kick\n",
      "wrestle\n",
      "kick\n"
     ]
    }
   ],
   "source": [
    "#Creating a class with some attributes\n",
    "\n",
    "class sport():\n",
    "    soccer = \"kick\"\n",
    "    jiujitsu = \"wrestle\"        # class has two attributes in it\n",
    "\n",
    "Abbey = sport()     #instantiating it\n",
    "\n",
    "print(Abbey.jiujitsu)   #calling it - dot syntax is how we call attributes from a class object\n",
    "print(Abbey.soccer)\n"
   ]
  },
  {
   "cell_type": "code",
   "execution_count": null,
   "metadata": {},
   "outputs": [
    {
     "name": "stdout",
     "output_type": "stream",
     "text": [
      "penny farthing\n"
     ]
    }
   ],
   "source": [
    "#using __init__() magic function (method) is to be able to call an attribute at the time we instantiate an object\n",
    "#self means, instantiate itself when its called with the attribute you describe\n",
    "\n",
    "\n",
    "class bicycle():\n",
    "    def __init__(self,type):        #when defining within a class - they're called a method, not a function\n",
    "        self.type = type\n",
    "\n",
    "fabian = bicycle(\"penny farthing\")  #created an instance and passed in an attribute at the time of instantiating\n",
    "    \n",
    "print(fabian.type)"
   ]
  },
  {
   "cell_type": "code",
   "execution_count": null,
   "metadata": {},
   "outputs": [
    {
     "name": "stdout",
     "output_type": "stream",
     "text": [
      "Happy Birthday\n"
     ]
    }
   ],
   "source": [
    "# defining a method and calling it after instantiation\n",
    "\n",
    "class fun():\n",
    "    def partynoise(self): \n",
    "        print(\"Happy Birthday\")\n",
    "\n",
    "MIPS = fun()\n",
    "MIPS.partynoise()"
   ]
  },
  {
   "cell_type": "code",
   "execution_count": null,
   "metadata": {},
   "outputs": [
    {
     "name": "stdout",
     "output_type": "stream",
     "text": [
      "The area of the rectangle with the distance X: 3.0 and distance y: 4.0 is: 12.0 units^2\n",
      "50\n"
     ]
    }
   ],
   "source": [
    "#Make an object that is capable of calculating the area of a rectangle in a method, then ask the user for inputs for x and y and instantiate the object, and return the area\n",
    "\n",
    "        \n",
    "class areaCalc():       #by making this object with x and y - it can be re-used - if you put the input vairables within, it would be limited\n",
    "    def __init__(self, x ,y):\n",
    "        self.x = x\n",
    "        self.y = y\n",
    "    def area(self):\n",
    "        area = self.x * self.y\n",
    "        return area\n",
    "    \n",
    "rectangle_x = float(input(\"What is the x distance of the rectangle?\"))      # defining values which you can put through the object\n",
    "rectangle_y = float(input(\"What is the y distance of the rectangle \"))\n",
    "\n",
    "rectangle = areaCalc(rectangle_x, rectangle_y)      # defining an instance and using defined variables as the x and y values\n",
    "\n",
    "print(\"The area of the rectangle with the distance X: {} and distance y: {} is: {} units^2\".format(rectangle_x, rectangle_y, rectangle.area()))\n",
    "\n",
    "t1 = 5\n",
    "t2 = 10\n",
    "rectangle2 = areaCalc(t1,t2)        #now you can reuse the object\n",
    "print(rectangle2.area())\n"
   ]
  }
 ],
 "metadata": {
  "kernelspec": {
   "display_name": "base",
   "language": "python",
   "name": "python3"
  },
  "language_info": {
   "codemirror_mode": {
    "name": "ipython",
    "version": 3
   },
   "file_extension": ".py",
   "mimetype": "text/x-python",
   "name": "python",
   "nbconvert_exporter": "python",
   "pygments_lexer": "ipython3",
   "version": "3.12.4"
  }
 },
 "nbformat": 4,
 "nbformat_minor": 2
}
