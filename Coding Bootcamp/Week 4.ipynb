{
 "cells": [
  {
   "cell_type": "markdown",
   "metadata": {},
   "source": [
    "# Lists"
   ]
  },
  {
   "cell_type": "code",
   "execution_count": 1,
   "metadata": {},
   "outputs": [
    {
     "name": "stdout",
     "output_type": "stream",
     "text": [
      "[5, 10, 15.2, 20]\n"
     ]
    }
   ],
   "source": [
    "# Declaring a list of numbers\n",
    "nums = [5, 10, 15.2, 20]\n",
    "print(nums)"
   ]
  },
  {
   "cell_type": "code",
   "execution_count": 2,
   "metadata": {},
   "outputs": [
    {
     "name": "stdout",
     "output_type": "stream",
     "text": [
      "10\n",
      "15.2\n"
     ]
    }
   ],
   "source": [
    "# accessing elements within a list\n",
    "print( nums[1] ) # will output the value at index 1 = 10, bc index starts at 0\n",
    "num = nums[2] # saves index value 2 into num\n",
    "print(num) # prints value assigned to num"
   ]
  },
  {
   "cell_type": "code",
   "execution_count": 3,
   "metadata": {},
   "outputs": [
    {
     "name": "stdout",
     "output_type": "stream",
     "text": [
      "[4.3, 'word', True]\n"
     ]
    }
   ],
   "source": [
    "# declaring a list of mixed data types\n",
    "num = 4.3\n",
    "data = [num, \"word\", True] # the power of data collection\n",
    "print(data)"
   ]
  },
  {
   "cell_type": "code",
   "execution_count": 8,
   "metadata": {},
   "outputs": [
    {
     "name": "stdout",
     "output_type": "stream",
     "text": [
      "[5, 'book', [34, 'hello'], True]\n",
      "[34, 'hello']\n",
      "34\n",
      "hello\n",
      "e\n"
     ]
    }
   ],
   "source": [
    "# understanding lists within lists\n",
    "data = [5, \"book\", [ 34, \"hello\" ], True] # lists can hold any type\n",
    "print(data)\n",
    "print( data[2] ) #Index 2 is its own list\n",
    "\n",
    "# using double bracket notation to access lists within lists\n",
    "print( data[2][0] ) # will output 34, because index two is a list, and you've asked for the first index in that list\n",
    "inner_list = data[2] # inner list will equal [34, 'hello']\n",
    "print( inner_list[1] ) # will output 'hello'\n",
    "print(inner_list[1][1]) #asked for the first index in the list (ie. hello) and then asked for the index 1 (e of hello)"
   ]
  },
  {
   "attachments": {
    "image.png": {
     "image/png": "[encoded data removed]"
    }
   },
   "cell_type": "markdown",
   "metadata": {},
   "source": [
    "![image.png](attachment:image.png)"
   ]
  },
  {
   "cell_type": "code",
   "execution_count": 9,
   "metadata": {},
   "outputs": [
    {
     "name": "stdout",
     "output_type": "stream",
     "text": [
      "[5, 10, 15, 20]\n",
      "[100, 10, 15, 20]\n"
     ]
    }
   ],
   "source": [
    "# changing values in a list through index\n",
    "data = [5, 10, 15, 20]\n",
    "print(data)\n",
    "data[0] = 100 # change the value at index 0 - (5 to 100)\n",
    "print(data)"
   ]
  },
  {
   "cell_type": "markdown",
   "metadata": {},
   "source": [
    "# Variable Storage"
   ]
  },
  {
   "cell_type": "code",
   "execution_count": 10,
   "metadata": {},
   "outputs": [
    {
     "name": "stdout",
     "output_type": "stream",
     "text": [
      "2240478725888\n"
     ]
    }
   ],
   "source": [
    "a = [5, 10]\n",
    "print(id(a)) #large number that represents a location in memory"
   ]
  },
  {
   "cell_type": "code",
   "execution_count": 16,
   "metadata": {},
   "outputs": [
    {
     "name": "stdout",
     "output_type": "stream",
     "text": [
      "a: [5, 10]\t b: [5, 10]\n",
      "Location a[0]: 140711627668024\t Location b[0]: 140711627668024\n",
      "a: [20, 10]\t b: [20, 10]\n"
     ]
    }
   ],
   "source": [
    "# understanding how lists are stored in memory - important for big projects and troubleshooting memory problems\n",
    "a = [5, 10]\n",
    "b = a\n",
    "print( \"a: {}\\t b: {}\".format(a, b) )\n",
    "print( \"Location a[0]: {}\\t Location b[0]: {}\".format( id(a[0]), id(b[0]) ) )\n",
    "a[0] = 20 # re-declaring the value of a[0] also changes b[0]\n",
    "print( \"a: {}\\t b: {}\".format(a, b) )"
   ]
  },
  {
   "cell_type": "markdown",
   "metadata": {},
   "source": [
    "# Monday Exercises"
   ]
  },
  {
   "cell_type": "code",
   "execution_count": 16,
   "metadata": {},
   "outputs": [
    {
     "name": "stdout",
     "output_type": "stream",
     "text": [
      "I like to play netball\n",
      "I like to play tennis\n",
      "I like to play soccer\n"
     ]
    }
   ],
   "source": [
    "# Sports: Define a list of strings, where each string is a sport. Then output each sport with the following line “I like to play {}”…\n",
    "\n",
    "sport = [\"netball\", \"tennis\", \"soccer\"]\n",
    "print(\"I like to play {}\".format(sport[0]))\n",
    "print(\"I like to play {}\".format(sport[1]))\n",
    "print(\"I like to play {}\".format(sport[2]))"
   ]
  },
  {
   "cell_type": "code",
   "execution_count": 17,
   "metadata": {},
   "outputs": [
    {
     "name": "stdout",
     "output_type": "stream",
     "text": [
      "The first letter of each name is J, A, S and K\n"
     ]
    }
   ],
   "source": [
    "# First Character: For the following list, print out each item’s first letter. (output should be ‘J’, ‘A’, ‘S’, ‘K’) names = [‘John’, ‘Abraham’, ‘Sam’, ‘Kelly’]\n",
    "\n",
    "names = [\"John\", \"Abraham\", \"Sam\", \"Kelly\"]\n",
    "print(\"The first letter of each name is {}, {}, {} and {}\".format(names[0][0], names[1][0], names[2][0], names[3][0]))"
   ]
  },
  {
   "cell_type": "markdown",
   "metadata": {},
   "source": [
    "# Loops"
   ]
  },
  {
   "attachments": {
    "image.png": {
     "image/png": "[encoded data removed]"
    }
   },
   "cell_type": "markdown",
   "metadata": {},
   "source": [
    "![image.png](attachment:image.png)"
   ]
  },
  {
   "cell_type": "code",
   "execution_count": 20,
   "metadata": {},
   "outputs": [
    {
     "name": "stdout",
     "output_type": "stream",
     "text": [
      "Value: 0\n",
      "Value: 1\n",
      "Value: 2\n",
      "Value: 3\n",
      "Value: 4\n"
     ]
    }
   ],
   "source": [
    "# writing your first for loop using range\n",
    "for num in range(5):\n",
    "    print( \"Value: {}\".format(num) )"
   ]
  },
  {
   "attachments": {
    "image.png": {
     "image/png": "[encoded data removed]"
    }
   },
   "cell_type": "markdown",
   "metadata": {},
   "source": [
    "This loop is essentially counting to five and printing out each number. When the for loop is created, the range function begins at zero by default and\n",
    "assigns the value of zero into our temporary variable num. Each time through the loop is\n",
    "what we call an iteration. For each iteration, once all the code within the block runs, the\n",
    "current iteration is finished, and the loop starts over again at the top. Except this time, it\n",
    "increments the value of num, which by default is 1. Our temporary variable is assigned\n",
    "the value of 1 and continues to run the lines of code inside the for loop, which is simply\n",
    "printing out the value of num. It will continue to do this until we reach the number 5. To\n",
    "give you an idea of the values assigned for each iteration\n",
    "![image.png](attachment:image.png)"
   ]
  },
  {
   "cell_type": "code",
   "execution_count": 23,
   "metadata": {},
   "outputs": [
    {
     "name": "stdout",
     "output_type": "stream",
     "text": [
      "Value: 2\n",
      "Value: 4\n",
      "Value: 6\n",
      "Value: 8\n"
     ]
    }
   ],
   "source": [
    "# providing the start, stop, and step for the range function\n",
    "for num in range(2, 10, 2):\n",
    "    print( \"Value: {}\".format(num) ) # will print all evens between 2 and 10"
   ]
  },
  {
   "cell_type": "code",
   "execution_count": null,
   "metadata": {},
   "outputs": [
    {
     "name": "stdout",
     "output_type": "stream",
     "text": [
      "Value: J\n",
      "Value: o\n",
      "Value: h\n",
      "Value: n\n",
      "Value:  \n",
      "Value: S\n",
      "Value: m\n",
      "Value: i\n",
      "Value: t\n",
      "Value: h\n"
     ]
    }
   ],
   "source": [
    "# printing all characters in a name using the 'in' keyword\n",
    "name = \"John Smith\"\n",
    "for letter in name:   #note here that the temp variable cam ne called anything 'letter' isnt important -you could call the temp variable anything. - its for a variable in another variable\n",
    "    print( \"Value: {}\".format(letter) )"
   ]
  },
  {
   "cell_type": "code",
   "execution_count": null,
   "metadata": {},
   "outputs": [
    {
     "name": "stdout",
     "output_type": "stream",
     "text": [
      "0\n",
      "1\n",
      "2\n",
      "4\n"
     ]
    }
   ],
   "source": [
    "# using the continue statement within a for loop - continue stops the current iteration and starts it again, hence why 3 is not printed\n",
    "for num in range(5):\n",
    "    if num == 3:\n",
    "        continue    #this will skip it\n",
    "    print(num)\n",
    "   "
   ]
  },
  {
   "cell_type": "code",
   "execution_count": null,
   "metadata": {},
   "outputs": [
    {
     "name": "stdout",
     "output_type": "stream",
     "text": [
      "0\n",
      "1\n",
      "2\n"
     ]
    }
   ],
   "source": [
    "# breaking out of a loop using the 'break' keyword\n",
    "for num in range(5):\n",
    "    if num == 3:\n",
    "        break       #this will stop the loop\n",
    "    print(num)"
   ]
  },
  {
   "cell_type": "code",
   "execution_count": 35,
   "metadata": {},
   "outputs": [],
   "source": [
    "# setting a placeholder using the 'pass' keyword\n",
    "for i in range(5):\n",
    "# TODO: add code to print number - TODO is general practice for setting a reminder\n",
    "    pass"
   ]
  },
  {
   "cell_type": "markdown",
   "metadata": {},
   "source": [
    "# Tuesday exercises"
   ]
  },
  {
   "cell_type": "code",
   "execution_count": 1,
   "metadata": {},
   "outputs": [
    {
     "name": "stdout",
     "output_type": "stream",
     "text": [
      "Value: 0\n",
      "Value: 3\n",
      "Value: 6\n",
      "Value: 9\n",
      "Value: 12\n",
      "Value: 15\n",
      "Value: 18\n",
      "Value: 21\n",
      "Value: 24\n",
      "Value: 27\n",
      "Value: 30\n",
      "Value: 33\n",
      "Value: 36\n",
      "Value: 39\n",
      "Value: 42\n",
      "Value: 45\n",
      "Value: 48\n",
      "Value: 51\n",
      "Value: 54\n",
      "Value: 57\n",
      "Value: 60\n",
      "Value: 63\n",
      "Value: 66\n",
      "Value: 69\n",
      "Value: 72\n",
      "Value: 75\n",
      "Value: 78\n",
      "Value: 81\n",
      "Value: 84\n",
      "Value: 87\n",
      "Value: 90\n",
      "Value: 93\n",
      "Value: 96\n",
      "Value: 99\n"
     ]
    }
   ],
   "source": [
    "# Divisible by Three: Write a for loop that prints out all numbers from 1 to 100 that are divisible by three.\n",
    "\n",
    "for i in range(0, 100, 3):\n",
    "    print(\"Value: {}\".format(i))\n",
    "    "
   ]
  },
  {
   "cell_type": "code",
   "execution_count": 7,
   "metadata": {},
   "outputs": [
    {
     "name": "stdout",
     "output_type": "stream",
     "text": [
      "Vowels are: a\n",
      "Vowels are: o\n",
      "Vowels are: i\n"
     ]
    }
   ],
   "source": [
    "# Only Vowels: Ask for user input, and write a for loop that will output all the vowels within it. For example: >>> \"Hello\" ➔ \"eo\"\n",
    "# Ask for user input\n",
    "\n",
    "word = input(\"What is the word you only want to know the vowels:\")\n",
    "word = word.lower()\n",
    "for letter in word:\n",
    "    if letter == 'a' or letter == \"e\" or letter == \"i\" or letter == \"o\" or letter == \"u\":\n",
    "        print(\"Vowels are: {}\".format(letter))\n"
   ]
  },
  {
   "cell_type": "code",
   "execution_count": 33,
   "metadata": {},
   "outputs": [
    {
     "name": "stdout",
     "output_type": "stream",
     "text": [
      "abbey\n",
      "Vowels in your name a\n",
      "Vowels in your name e\n"
     ]
    }
   ],
   "source": [
    "question = input(\"Enter a word\")\n",
    "vowels = \"aeiouAEIOU\"\n",
    "print(question)\n",
    "for letter in question:\n",
    "    if letter in vowels:\n",
    "        print(\"Vowels in your name {}\".format(letter))"
   ]
  },
  {
   "cell_type": "code",
   "execution_count": null,
   "metadata": {},
   "outputs": [
    {
     "name": "stdout",
     "output_type": "stream",
     "text": [
      "1\n",
      "3\n",
      "5\n",
      "7\n",
      "9\n",
      "11\n",
      "13\n",
      "15\n",
      "17\n",
      "19\n"
     ]
    }
   ],
   "source": [
    "for i in range(1,20):       # % if not divisible by __ - ie. if __ % 2 = not divisible by 2 = odd numbers\n",
    "    if i % 2:\n",
    "        print(i)\n"
   ]
  },
  {
   "cell_type": "code",
   "execution_count": null,
   "metadata": {},
   "outputs": [
    {
     "name": "stdout",
     "output_type": "stream",
     "text": [
      "2\n",
      "3\n",
      "7\n",
      "11\n",
      "13\n",
      "19\n"
     ]
    }
   ],
   "source": [
    "# Prime lookup to 20 - easier to make the prime numbers a list bc then make some difficult computations\n",
    "primes = [2,3,7,11,13,19]\n",
    "\n",
    "for i in range(0,20,1):\n",
    "    if i in primes:\n",
    "        print(i)"
   ]
  },
  {
   "cell_type": "markdown",
   "metadata": {},
   "source": [
    "# While Loops"
   ]
  },
  {
   "cell_type": "code",
   "execution_count": 14,
   "metadata": {},
   "outputs": [
    {
     "name": "stdout",
     "output_type": "stream",
     "text": [
      "10\n",
      "9\n",
      "8\n",
      "7\n",
      "6\n",
      "5\n",
      "4\n",
      "3\n",
      "2\n",
      "1\n"
     ]
    }
   ],
   "source": [
    "# writing your first while loop\n",
    "health = 10\n",
    "while health > 0:\n",
    "    print(health)\n",
    "    health -= 1 # - this is decreasing by one - forgetting this line will result in infinite loop"
   ]
  },
  {
   "cell_type": "code",
   "execution_count": 56,
   "metadata": {},
   "outputs": [
    {
     "name": "stdout",
     "output_type": "stream",
     "text": [
      "0 0 0\n",
      "0 0 1\n",
      "0 0 2\n",
      "0 1 0\n",
      "0 1 1\n",
      "0 1 2\n",
      "0 2 0\n",
      "0 2 1\n",
      "0 2 2\n",
      "1 0 0\n",
      "1 0 1\n",
      "1 0 2\n",
      "1 1 0\n",
      "1 1 1\n",
      "1 1 2\n",
      "1 2 0\n",
      "1 2 1\n",
      "1 2 2\n"
     ]
    }
   ],
   "source": [
    "# using two or more loops together is called a nested loop\n",
    "for i in range(2): # outside loop - gets executed first\n",
    "    for j in range(3): # inside loop\n",
    "        for k in range(3):\n",
    "            print( i, j, k )"
   ]
  },
  {
   "attachments": {
    "image.png": {
     "image/png": "[encoded data removed]"
    }
   },
   "cell_type": "markdown",
   "metadata": {},
   "source": [
    "![image.png](attachment:image.png)"
   ]
  },
  {
   "cell_type": "markdown",
   "metadata": {},
   "source": [
    "# Wednesday Exercises"
   ]
  },
  {
   "cell_type": "code",
   "execution_count": 68,
   "metadata": {},
   "outputs": [],
   "source": [
    "#User Input: Write a while loop that continues to ask for user input and runs until they type “quit”.\n",
    "\n",
    "word = input(\"What do you want to do: \")\n",
    "while word != \"quit\":\n",
    "    word = input(\"What do you want to do: \")"
   ]
  },
  {
   "cell_type": "code",
   "execution_count": 10,
   "metadata": {},
   "outputs": [
    {
     "name": "stdout",
     "output_type": "stream",
     "text": [
      "0\n",
      "1\n",
      "2\n",
      "finished\n"
     ]
    }
   ],
   "source": [
    "# Double Loop: Write a for loop within a while loop that will count from 0 to 5, but when it reaches 3, it sets a game_over variable to True and breaks out of the loop. The while loop should continue to loop until game_over is True. The\n",
    "# output should only be 0, 1, 2.\n",
    "\n",
    "game_over=False\n",
    "while game_over == False:\n",
    "    for i in range(5):\n",
    "        print(i)\n",
    "        if i == 2:\n",
    "            game_over=True\n",
    "            break\n",
    "print(\"finished\")\n",
    "\n",
    "             "
   ]
  },
  {
   "cell_type": "markdown",
   "metadata": {},
   "source": [
    "# Working with lists"
   ]
  },
  {
   "cell_type": "code",
   "execution_count": null,
   "metadata": {},
   "outputs": [
    {
     "name": "stdout",
     "output_type": "stream",
     "text": [
      "3\n",
      "[10, 15]\n",
      "[5, 10]\n",
      "[5, 15]\n",
      "[10, 15]\n"
     ]
    }
   ],
   "source": [
    "# checking the number of items within a list\n",
    "nums = [5, 10, 15]\n",
    "length = len(nums) # len() returns an integer\n",
    "print(length)\n",
    "# accessing specific items of a list with slices\n",
    "print( nums[ 1 : 3 ] ) # will output items in index 1 and 2\n",
    "print( nums[ : 2 ] ) # will output items in index 0 and 1\n",
    "print( nums[ : : 2 ] ) # will print every other index - 0, 2, 4, etc.\n",
    "print( nums[ -2 : ] ) # will output the last two items in list - If you use a negative number in the start or stop positions, then the slice will either start or stop further from the back. \n",
    "# Meaning that if you state -2 as the start position, it will count from the second last value to the end"
   ]
  },
  {
   "cell_type": "code",
   "execution_count": 4,
   "metadata": {},
   "outputs": [
    {
     "name": "stdout",
     "output_type": "stream",
     "text": [
      "[10, 20, 5]\n"
     ]
    }
   ],
   "source": [
    "# adding an item to the back of a list using append\n",
    "nums = [10, 20]\n",
    "nums.append(5)\n",
    "print(nums) # outputs [10, 20, 5]"
   ]
  },
  {
   "cell_type": "code",
   "execution_count": 8,
   "metadata": {},
   "outputs": [
    {
     "name": "stdout",
     "output_type": "stream",
     "text": [
      "['glove', 'ball', 'base']\n"
     ]
    }
   ],
   "source": [
    "# adding a value to the beginning of the list\n",
    "words = [ \"ball\", \"base\" ]\n",
    "words.insert(0, \"glove\") # first number is the index, second is the value\n",
    "print(words)"
   ]
  },
  {
   "cell_type": "code",
   "execution_count": null,
   "metadata": {},
   "outputs": [
    {
     "name": "stdout",
     "output_type": "stream",
     "text": [
      "5 \n",
      " ['ball']\n"
     ]
    }
   ],
   "source": [
    "# using pop to remove items and saving to a variable to use later\n",
    "items = [5, \"ball\", True]\n",
    "items.pop() # by default removes the last item - so items is now 5 and ball\n",
    "removed_item = items.pop(0) # removes 5 and saves it into the variable - so items is now ball and removed items is 5\n",
    "print(removed_item, \"\\n\", items) # prints removed items (5) and tabs and next line and prints items (now only ball)"
   ]
  },
  {
   "cell_type": "code",
   "execution_count": null,
   "metadata": {},
   "outputs": [
    {
     "name": "stdout",
     "output_type": "stream",
     "text": [
      "['baseball', 'football', 'hockey']\n"
     ]
    }
   ],
   "source": [
    "# using the remove method with a try and except\n",
    "sports = [ \"baseball\", \"soccer\", \"football\", \"hockey\" ]\n",
    "try:\n",
    "    sports.remove(\"soccer\")\n",
    "except:\n",
    "    print(\"That item does not exist in the list\") #if we typed in another sport and didnt have this, the program would crash\n",
    "print(sports)"
   ]
  },
  {
   "cell_type": "code",
   "execution_count": 12,
   "metadata": {},
   "outputs": [
    {
     "name": "stdout",
     "output_type": "stream",
     "text": [
      "3\n",
      "9\n",
      "17\n"
     ]
    }
   ],
   "source": [
    "# using min, max, and sum\n",
    "nums = [5, 3, 9]\n",
    "print( min(nums) ) # will find the lowest number in the list\n",
    "print( max(nums) ) # will find the highest number in the list\n",
    "print( sum(nums) ) # will add all numbers in the list and return the sum"
   ]
  },
  {
   "cell_type": "code",
   "execution_count": null,
   "metadata": {},
   "outputs": [
    {
     "name": "stdout",
     "output_type": "stream",
     "text": [
      "[5, 8, 0, 2] [0, 2, 5, 8]\n"
     ]
    }
   ],
   "source": [
    "# using sorted on lists for numerical and alphabetical data - returns a copy - use if you dont want to alter the original\n",
    "nums = [5, 8, 0, 2]\n",
    "sorted_nums = sorted(nums) # save to a new variable to use later\n",
    "print(nums, sorted_nums) # the original list is in tact"
   ]
  },
  {
   "cell_type": "code",
   "execution_count": 14,
   "metadata": {},
   "outputs": [
    {
     "name": "stdout",
     "output_type": "stream",
     "text": [
      "[0, 3, 5, 8]\n"
     ]
    }
   ],
   "source": [
    "# sorting a list with .sort() in-place\n",
    "nums = [5, 0, 8, 3]\n",
    "nums.sort( ) # alters the original variable directly\n",
    "print(nums)"
   ]
  },
  {
   "cell_type": "code",
   "execution_count": null,
   "metadata": {},
   "outputs": [
    {
     "name": "stdout",
     "output_type": "stream",
     "text": [
      "found\n",
      "not found)\n"
     ]
    }
   ],
   "source": [
    "# using conditional statements on a list\n",
    "names = [\"Jack\", \"Robert\", \"Mary\"]\n",
    "if \"Mary\" in names:\n",
    "    print(\"found\") #will run bc mary is in the list\n",
    "if \"Jimmy\" not in names:\n",
    "    print(\"not found\") #will run bc Jimmy not in list"
   ]
  },
  {
   "cell_type": "code",
   "execution_count": 18,
   "metadata": {},
   "outputs": [
    {
     "name": "stdout",
     "output_type": "stream",
     "text": [
      "empty\n"
     ]
    }
   ],
   "source": [
    "# using conditionals to see if a list is empty\n",
    "nums = [ ]\n",
    "if not nums: # could also say 'if nums == []'\n",
    "    print(\"empty\")"
   ]
  },
  {
   "cell_type": "code",
   "execution_count": null,
   "metadata": {},
   "outputs": [
    {
     "name": "stdout",
     "output_type": "stream",
     "text": [
      "Baseball\n",
      "Hockey\n",
      "Football\n",
      "Basketball\n"
     ]
    }
   ],
   "source": [
    "# using a for loop to print all items in a list\n",
    "sports = [ \"Baseball\", \"Hockey\", \"Football\", \"Basketball\" ]\n",
    "for sport in sports:\n",
    "    print(sport)\n",
    "    # During the first iteration the temporary variable “sport” is assigned “Baseball,” and once it prints it out, it moves on to the next item."
   ]
  },
  {
   "cell_type": "code",
   "execution_count": null,
   "metadata": {},
   "outputs": [
    {
     "name": "stdout",
     "output_type": "stream",
     "text": [
      "['Jack', 'Rob', 'Robert']\n"
     ]
    }
   ],
   "source": [
    "# using the while loop to remove a certain value\n",
    "names = [ \"Bob\", \"Jack\", \"Rob\", \"Bob\", \"Robert\" ]\n",
    "while \"Bob\" in names:\n",
    "    names.remove(\"Bob\") # removes all instances of 'Bob'\n",
    "print(names)\n",
    "#We used the combination of the while loop with a conditional to check for our “Bob” value in the list and then continued to remove it until our condition was no longer true."
   ]
  },
  {
   "cell_type": "markdown",
   "metadata": {},
   "source": [
    "# Thursday Exercises:\n"
   ]
  },
  {
   "cell_type": "code",
   "execution_count": 11,
   "metadata": {},
   "outputs": [
    {
     "name": "stdout",
     "output_type": "stream",
     "text": [
      "List before duplication removal is: ['Bob', 'Kenny', 'Amanda', 'Bob', 'Kenny']\n",
      "List AFTER duplication removal is: ['Amanda', 'Bob', 'Kenny']\n"
     ]
    }
   ],
   "source": [
    "# Remove Duplicates: Remove all duplicates from the list below. Hint: Use the .count( ) method. The output should be [‘Bob’, ‘Kenny’, ‘Amanda’] >>> names = ['Bob', 'Kenny', 'Amanda', 'Bob', 'Kenny']\n",
    "\n",
    "names=[\"Bob\",\"Kenny\",\"Amanda\",\"Bob\",\"Kenny\"]\n",
    "print(\"List before duplication removal is: {}\".format(names))\n",
    "for position in names:\n",
    "    count=names.count(position)\n",
    "    if count>=2: \n",
    "        names.remove(position)\n",
    "    \n",
    "print(\"List AFTER duplication removal is: {}\".format(names))"
   ]
  },
  {
   "cell_type": "code",
   "execution_count": 13,
   "metadata": {},
   "outputs": [
    {
     "name": "stdout",
     "output_type": "stream",
     "text": [
      "Every input you type in will add to a list, to quit type 'quit'\n",
      "Your list is: ['potato', '', 'onion', 'apple', 'cheese']\n"
     ]
    }
   ],
   "source": [
    "# User Input: Use a while loop to continually ask the user to input a word, until they type “quit ”. Once they type a word in, add it to a list. Once they quit the loop, use a for loop to output all items within the list.\n",
    "\n",
    "words=[]\n",
    "print(\"Every input you type in will add to a list, to quit type 'quit'\")\n",
    "i=input(\"What is the first word you want to add: \")\n",
    "words.append(i)\n",
    "while i != \"quit\":\n",
    "    i=input(\"What next word do you want to add: \")\n",
    "    words.append(i)\n",
    "\n",
    "words.remove(\"quit\")    \n",
    "print(\"Your list is: {}\".format(words))"
   ]
  },
  {
   "cell_type": "markdown",
   "metadata": {},
   "source": [
    "# Friday Project"
   ]
  },
  {
   "cell_type": "code",
   "execution_count": 45,
   "metadata": {},
   "outputs": [
    {
     "name": "stdout",
     "output_type": "stream",
     "text": [
      "You guessed correctly\n",
      "Congratulation, you guessed it correctly. The word was ['c', 'h', 'a', 'i', 'r']\n"
     ]
    }
   ],
   "source": [
    "#import additional functions\n",
    "from random import choice  #mporting a function called “choice” which will select a random item from a list.\n",
    "from IPython.display import clear_output #importing a Jupyter Notebook specific function which clears the output - otherwise output continues to output ontop of each other\n",
    "\n",
    "# delcare game variables\n",
    "words = [\"tree\", \"basket\", \"chair\", \"paper\", \"python\"]\n",
    "word = choice(words)  # randomly chooses a word from the words list\n",
    "guessed, lives, game_over = [], 7, False  #multi-variable assignment\n",
    "\n",
    "#create a lise of underscores the length of the word\n",
    "guesses = [\"_\"]*len(word)\n",
    "\n",
    "#create main game loop\n",
    "while not game_over:  \n",
    "    # output game information\n",
    "    hidden_word = \"\".join(guesses)   #join - joins all items within the guesses list together with no spaces - displays list like a string\n",
    "    print(\"Your guessed letters: {}\".format(guessed))\n",
    "    print(\"Word to guess: {}\".format(hidden_word))\n",
    "    print(\"Lives: {}\".format(lives))\n",
    "\n",
    "    ans = input(\"Type quit or guess a letter: \").lower()\n",
    "\n",
    "    clear_output()      #clears previous output\n",
    "\n",
    "    if ans == \"quit\":\n",
    "       print(\"Thanks for playing\")\n",
    "       game_over = True\n",
    "    elif ans in word and ans not in guessed:   #check if letter in word\n",
    "        print(\"You guessed correctly\")\n",
    "\n",
    "        #create a loop to change underscor the proper letter\n",
    "        for i in range(len(word)):\n",
    "            if word[i]==ans:        #compares values at indexes\n",
    "                guesses[i] = ans\n",
    "    elif ans in guessed:\n",
    "        print(\"You already guessed that. Try again\")    \n",
    "    else:       # otherwise lose a life\n",
    "        lives -= 1  #substract one from lives\n",
    "        print(\"Incorrect, you lost a life\")\n",
    "\n",
    "    if ans not in guessed:\n",
    "        guessed.append(ans)     #add ans to guessed list\n",
    "\n",
    "    if lives <= 0:\n",
    "        print(\"You lost all your lives, you lost!\")\n",
    "        game_over = True\n",
    "    elif word == \"\".join(guesses):\n",
    "        print(\"Congratulation, you guessed it correctly. The word was {}\".format(guesses))\n",
    "        game_over = True"
   ]
  },
  {
   "cell_type": "markdown",
   "metadata": {},
   "source": [
    "# Matt's Workshop"
   ]
  },
  {
   "cell_type": "code",
   "execution_count": 15,
   "metadata": {},
   "outputs": [
    {
     "name": "stdout",
     "output_type": "stream",
     "text": [
      "2\n"
     ]
    }
   ],
   "source": [
    "mylist = [0,1,2,3,4]\n",
    "print(mylist[2])"
   ]
  },
  {
   "cell_type": "code",
   "execution_count": 25,
   "metadata": {},
   "outputs": [
    {
     "name": "stdout",
     "output_type": "stream",
     "text": [
      "Value: 4\n",
      "Value: 8\n",
      "Value: 12\n",
      "Value: 16\n",
      "Value: 20\n",
      "Value: 24\n",
      "Value: 28\n",
      "Value: 32\n",
      "Value: 36\n",
      "Value: 40\n"
     ]
    }
   ],
   "source": [
    "#Print a loop for all numbers divisible by 4 up to 44\n",
    "\n",
    "for i in range(0,44,4):\n",
    "    if i==0:\n",
    "        continue\n",
    "    print(\"Value: {}\".format(i))\n"
   ]
  }
 ],
 "metadata": {
  "kernelspec": {
   "display_name": "base",
   "language": "python",
   "name": "python3"
  },
  "language_info": {
   "codemirror_mode": {
    "name": "ipython",
    "version": 3
   },
   "file_extension": ".py",
   "mimetype": "text/x-python",
   "name": "python",
   "nbconvert_exporter": "python",
   "pygments_lexer": "ipython3",
   "version": "3.12.4"
  }
 },
 "nbformat": 4,
 "nbformat_minor": 2
}
