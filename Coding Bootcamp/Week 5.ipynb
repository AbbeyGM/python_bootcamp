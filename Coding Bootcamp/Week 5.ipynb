{
 "cells": [
  {
   "cell_type": "markdown",
   "metadata": {},
   "source": [
    "# Week 4 weekly problem"
   ]
  },
  {
   "cell_type": "code",
   "execution_count": 10,
   "metadata": {},
   "outputs": [
    {
     "name": "stdout",
     "output_type": "stream",
     "text": [
      "['x', 'x', 'x', 'x', 'x']\n"
     ]
    }
   ],
   "source": [
    "length = range(5)\n",
    "var = [\"x\"]*len(length)\n",
    "print(var)"
   ]
  },
  {
   "cell_type": "code",
   "execution_count": 11,
   "metadata": {},
   "outputs": [
    {
     "name": "stdout",
     "output_type": "stream",
     "text": [
      "    x    \n",
      "   xxx   \n",
      "  xxxxx  \n",
      " xxxxxxx \n",
      "xxxxxxxxx\n"
     ]
    }
   ],
   "source": [
    "rows = 5  # You can set this to any number\n",
    "\n",
    "for i in range(1, rows + 1):\n",
    "    # Calculate spaces for centering\n",
    "    spaces = ' ' * (rows - i)\n",
    "    # Create the row with 'x' repeated i times\n",
    "    row = spaces + 'x' * (2 * i - 1) + spaces\n",
    "    print(row)"
   ]
  },
  {
   "cell_type": "code",
   "execution_count": 12,
   "metadata": {},
   "outputs": [
    {
     "name": "stdout",
     "output_type": "stream",
     "text": [
      "           \n",
      "          x \n",
      "         x x \n",
      "        x x x \n",
      "       x x x x \n",
      "      x x x x x \n",
      "     x x x x x x \n",
      "    x x x x x x x \n",
      "   x x x x x x x x \n",
      "  x x x x x x x x x \n"
     ]
    }
   ],
   "source": [
    "layers = int(10)\n",
    "for num in range(layers):\n",
    "    print(\" \"*(layers-num),\"x \"*num)"
   ]
  },
  {
   "cell_type": "markdown",
   "metadata": {},
   "source": [
    "# Week 5 - Creating and Calling Functions"
   ]
  },
  {
   "attachments": {
    "image.png": {
     "image/png": "[encoded data removed]"
    }
   },
   "cell_type": "markdown",
   "metadata": {},
   "source": [
    "![image.png](attachment:image.png)"
   ]
  },
  {
   "cell_type": "code",
   "execution_count": 12,
   "metadata": {},
   "outputs": [
    {
     "name": "stdout",
     "output_type": "stream",
     "text": [
      "Name: John Smith\n",
      "Age: 45\n",
      "Name: John Smith\n",
      "Age: 45\n"
     ]
    }
   ],
   "source": [
    "# writing your first function\n",
    "def printInfo( ): # defines what the function does when called\n",
    "    print(\"Name: John Smith\")\n",
    "    print(\"Age: 45\")\n",
    "printInfo( ) # calls the function to run\n",
    "printInfo( ) # calls the function again"
   ]
  },
  {
   "cell_type": "code",
   "execution_count": 16,
   "metadata": {},
   "outputs": [
    {
     "name": "stdout",
     "output_type": "stream",
     "text": [
      "15\n"
     ]
    }
   ],
   "source": [
    "# performing a calculation in a function\n",
    "def calc( ):\n",
    "    x, y = 5, 10\n",
    "    print(x + y)\n",
    "calc( ) # will run the block of code within calc and output 15"
   ]
  },
  {
   "cell_type": "markdown",
   "metadata": {},
   "source": [
    "# Monday Exercises"
   ]
  },
  {
   "cell_type": "code",
   "execution_count": 18,
   "metadata": {},
   "outputs": [
    {
     "name": "stdout",
     "output_type": "stream",
     "text": [
      "Abbey\n"
     ]
    }
   ],
   "source": [
    "# Define a function called myName, and have it print out your name when called.\n",
    "\n",
    "def myname():\n",
    "    print(\"Abbey\")\n",
    "myname()"
   ]
  },
  {
   "cell_type": "code",
   "execution_count": 22,
   "metadata": {},
   "outputs": [
    {
     "name": "stdout",
     "output_type": "stream",
     "text": [
      "['Cheese', 'Mushrooms', 'Onion', 'Tomato']\n",
      "['Cheese', 'Mushrooms', 'Onion', 'Tomato']\n",
      "['Cheese', 'Mushrooms', 'Onion', 'Tomato']\n"
     ]
    }
   ],
   "source": [
    "# Define a function that prints out all your favorite pizza toppings called pizzaToppings. Call the function three times.\n",
    "def pizzaToppings():\n",
    "    topping = [\"Cheese\", \"Mushrooms\", \"Onion\", \"Tomato\"]\n",
    "    print(topping)\n",
    "pizzaToppings()\n",
    "pizzaToppings()\n",
    "pizzaToppings()"
   ]
  },
  {
   "cell_type": "markdown",
   "metadata": {},
   "source": [
    "# Parameters"
   ]
  },
  {
   "cell_type": "code",
   "execution_count": 23,
   "metadata": {},
   "outputs": [
    {
     "name": "stdout",
     "output_type": "stream",
     "text": [
      "Your name is: Abbey\n",
      "Your name is: Hannah\n"
     ]
    }
   ],
   "source": [
    "# Passing a single parameter into a function\n",
    "def printName(full_name):\n",
    "    print(\"Your name is: {}\".format(full_name))\n",
    "printName(\"Abbey\")\n",
    "printName(\"Hannah\")"
   ]
  },
  {
   "cell_type": "code",
   "execution_count": 24,
   "metadata": {},
   "outputs": [
    {
     "name": "stdout",
     "output_type": "stream",
     "text": [
      "5 + 8 = 13\n",
      "3.5 + 5.5 = 9.0\n"
     ]
    }
   ],
   "source": [
    "# Passing multiple parameters into a function:\n",
    "def addNums(num1, num2):\n",
    "    result = num1 + num2\n",
    "    print(\"{} + {} = {}\".format(num1,num2,result))\n",
    "addNums(5,8)\n",
    "addNums(3.5,5.5)"
   ]
  },
  {
   "cell_type": "code",
   "execution_count": null,
   "metadata": {},
   "outputs": [
    {
     "name": "stdout",
     "output_type": "stream",
     "text": [
      "4\n",
      "16\n",
      "25\n",
      "100\n",
      "1\n",
      "9\n",
      "36\n"
     ]
    }
   ],
   "source": [
    "# using a function to square all information\n",
    "numbers1 = [ 2, 4, 5, 10 ]\n",
    "numbers2 = [ 1, 3, 6 ]\n",
    "def squares(nums):\n",
    "    for num in nums:        #for each variable in the value (which we will make a list) - nums is arbitrary\n",
    "        print(num**2)       # ** = power of\n",
    "squares(numbers1)\n",
    "squares(numbers2)"
   ]
  },
  {
   "cell_type": "code",
   "execution_count": null,
   "metadata": {},
   "outputs": [
    {
     "name": "stdout",
     "output_type": "stream",
     "text": [
      "Area: 12.56\n"
     ]
    }
   ],
   "source": [
    "# setting default parameter values\n",
    "def calcArea(r, pi=3.14):       #Default parameters MUST always go after non-default parameters.\n",
    "    area = pi * (r**2)\n",
    "    print(\"Area: {}\".format(area) )\n",
    "calcArea(2) # assuming radius is the value of 2"
   ]
  },
  {
   "cell_type": "code",
   "execution_count": null,
   "metadata": {},
   "outputs": [
    {
     "name": "stdout",
     "output_type": "stream",
     "text": [
      "John Smith\n",
      "John Paul Smith\n"
     ]
    }
   ],
   "source": [
    "# setting default parameter values - optional arguments\n",
    "def printName(first, last, middle=\"\"):      # We do this by assigning an empty string value as the default\n",
    "    if middle:  # if there is a value for middle\n",
    "        print( \"{} {} {}\".format(first, middle, last) )\n",
    "    else:\n",
    "        print( \"{} {}\".format(first, last) )\n",
    "printName(\"John\", \"Smith\")\n",
    "printName(\"John\", \"Smith\", \"Paul\") # will output with middle name"
   ]
  },
  {
   "cell_type": "code",
   "execution_count": 1,
   "metadata": {},
   "outputs": [
    {
     "name": "stdout",
     "output_type": "stream",
     "text": [
      "2.5\n",
      "5\n"
     ]
    }
   ],
   "source": [
    "# explicity assigning values to parameters by referencing the name\n",
    "def addNums(num1, num2):\n",
    "    print(num2)\n",
    "    print(num1)\n",
    "addNums(5, num2 = 2.5)"
   ]
  },
  {
   "cell_type": "code",
   "execution_count": 3,
   "metadata": {},
   "outputs": [
    {
     "name": "stdout",
     "output_type": "stream",
     "text": [
      "<class 'tuple'>\n",
      "5\n",
      "True\n",
      "Jess\n"
     ]
    }
   ],
   "source": [
    "# using args parameter to take in a tuple of arbitrary values - *args allows you to pass a myriad number of arguments into a function\n",
    "def outputData(name, *args):\n",
    "    print( type(args) )\n",
    "    for arg in args:\n",
    "        print(arg)\n",
    "outputData(\"John Smith\", 5, True, \"Jess\")       # The first argument in the function call is mapped to the name parameter, and the rest are inserted into the args tuple."
   ]
  },
  {
   "cell_type": "code",
   "execution_count": null,
   "metadata": {},
   "outputs": [
    {
     "name": "stdout",
     "output_type": "stream",
     "text": [
      "<class 'dict'>\n",
      "John Smith\n",
      "5\n"
     ]
    }
   ],
   "source": [
    "# using kwargs parameter to take in a dictionary of arbitrary values - This time the type is a dictionary and we’re able to output each key-value pair within the kwargs parameter\n",
    "#kwargs = key word argument\n",
    "def outputData(**kwargs):\n",
    "    print( type(kwargs) )\n",
    "    print( kwargs[ \"name\" ] )\n",
    "    print( kwargs[ \"num\" ] )\n",
    "outputData(name = \"John Smith\", num = 5, b = True)"
   ]
  },
  {
   "cell_type": "markdown",
   "metadata": {},
   "source": [
    "# Tuesday Exercises"
   ]
  },
  {
   "cell_type": "code",
   "execution_count": 27,
   "metadata": {},
   "outputs": [
    {
     "name": "stdout",
     "output_type": "stream",
     "text": [
      "Your word is: potato\n",
      "The outcome of the 'isupper' function is 'False'\n",
      "Your word does not start with a capital letter\n"
     ]
    }
   ],
   "source": [
    "# Ask the user to input a word, and pass that word into a function that checks if the word starts with an uppercase. If it does output “True”, otherwise “False”.\n",
    "\n",
    "word = input(\"Please input your word:\")\n",
    "\n",
    "def capitalCheck(word):\n",
    "    isCap = word[0].isupper()       # .isupper() outputs as true or false\n",
    "    print(\"Your word is: {}\".format(word))\n",
    "    print(\"The outcome of the 'isupper' function is '{}'\".format(isCap))\n",
    "    if isCap == True:\n",
    "        print(\"Your word starts with a capital letter\")\n",
    "    else:\n",
    "        print(\"Your word does not start with a capital letter\")\n",
    "    \n",
    "capitalCheck(word)"
   ]
  },
  {
   "cell_type": "code",
   "execution_count": 20,
   "metadata": {},
   "outputs": [
    {
     "data": {
      "text/plain": [
       "True"
      ]
     },
     "execution_count": 20,
     "metadata": {},
     "output_type": "execute_result"
    }
   ],
   "source": [
    "word = input(\"give me a word\")\n",
    "word[0].isupper()"
   ]
  },
  {
   "cell_type": "code",
   "execution_count": 34,
   "metadata": {},
   "outputs": [
    {
     "name": "stdout",
     "output_type": "stream",
     "text": [
      "Abbey Muller\n",
      "Abbey \n",
      "No name passed in\n"
     ]
    }
   ],
   "source": [
    "#Define a function that takes in two arguments, first_name and last_name, and makes both optional. If no values are passed into the parameters, it should output “No name passed in”; otherwise, it should print out the name.\n",
    "def printName(first_name=\"\", last_name=\"\"):      \n",
    "    if first_name and last_name:\n",
    "        print( \"{} {}\".format(first_name, last_name) )\n",
    "    elif first_name or last_name:\n",
    "        print( \"{} {}\".format(first_name, last_name) )\n",
    "    else:\n",
    "        print( \"No name passed in\" )\n",
    "printName(\"Abbey\",\"Muller\")\n",
    "printName(\"Abbey\")\n",
    "printName()"
   ]
  },
  {
   "cell_type": "markdown",
   "metadata": {},
   "source": [
    "# Return Statement"
   ]
  },
  {
   "attachments": {
    "image.png": {
     "image/png": "[encoded data removed]"
    }
   },
   "cell_type": "markdown",
   "metadata": {},
   "source": [
    "![image.png](attachment:image.png)"
   ]
  },
  {
   "cell_type": "code",
   "execution_count": 33,
   "metadata": {},
   "outputs": [
    {
     "ename": "NameError",
     "evalue": "name 'result' is not defined",
     "output_type": "error",
     "traceback": [
      "\u001b[1;31m---------------------------------------------------------------------------\u001b[0m",
      "\u001b[1;31mNameError\u001b[0m                                 Traceback (most recent call last)",
      "Cell \u001b[1;32mIn[33], line 5\u001b[0m\n\u001b[0;32m      2\u001b[0m     result \u001b[38;5;241m=\u001b[39m num1 \u001b[38;5;241m+\u001b[39m num2        \u001b[38;5;66;03m#this function defines a new variable\u001b[39;00m\n\u001b[0;32m      4\u001b[0m addNums2(\u001b[38;5;241m2\u001b[39m,\u001b[38;5;241m3\u001b[39m)\n\u001b[1;32m----> 5\u001b[0m \u001b[38;5;28mprint\u001b[39m(result)\n",
      "\u001b[1;31mNameError\u001b[0m: name 'result' is not defined"
     ]
    }
   ],
   "source": [
    "def addNums2(num1,num2):\n",
    "    result = num1 + num2        #this function defines a new variable\n",
    "\n",
    "addNums2(2,3)\n",
    "print(result)       #the result variable is only defined in the def function - is not a variable accessible in the whole notebook"
   ]
  },
  {
   "cell_type": "code",
   "execution_count": 32,
   "metadata": {},
   "outputs": [
    {
     "name": "stdout",
     "output_type": "stream",
     "text": [
      "10.0\n",
      "20\n"
     ]
    }
   ],
   "source": [
    "# using return keyword to return the sym of two numbers\n",
    "def addNums(num1, num2):\n",
    "    return num1 + num2\n",
    "num = addNums(5.5, 4.5)     #saves returned value in num\n",
    "print(num)\n",
    "print(addNums(10,10))\n",
    "\n",
    "#When we call addNums the first time, it runs the function with 5.5 and 4.5 and returns the sum. It then stores that returned value within num. The second time we call the function, we simply print it in place. \n",
    "# From here, we could reuse the value stored in num, but not the value returned by the second call."
   ]
  },
  {
   "cell_type": "code",
   "execution_count": 29,
   "metadata": {},
   "outputs": [
    {
     "name": "stdout",
     "output_type": "stream",
     "text": [
      "True\n"
     ]
    }
   ],
   "source": [
    "#Shorthand syntac using a ternary operator\n",
    "def searchList(aList, el):\n",
    "    return True if el in aList else False\n",
    "result = searchList([\"one\", 2, \"three\"],2)  #result = True\n",
    "print(result)"
   ]
  },
  {
   "cell_type": "markdown",
   "metadata": {},
   "source": [
    "# Wednesday Exercises"
   ]
  },
  {
   "cell_type": "code",
   "execution_count": 37,
   "metadata": {},
   "outputs": [
    {
     "name": "stdout",
     "output_type": "stream",
     "text": [
      "AbbeyMuller\n"
     ]
    }
   ],
   "source": [
    "# Create a function that takes in a first and last name and returns the two names joined together.\n",
    "def full_name(first, last):\n",
    "    return first + last\n",
    "print(full_name(\"Abbey\",\"Muller\"))\n"
   ]
  },
  {
   "cell_type": "code",
   "execution_count": 39,
   "metadata": {},
   "outputs": [
    {
     "name": "stdout",
     "output_type": "stream",
     "text": [
      "Potato\n"
     ]
    }
   ],
   "source": [
    "# Within a function, ask for user input. Have this function return that input to be stored in a variable outside of the function. Then print out the input.\n",
    "def userInput():\n",
    "    word = input(\"Please input a string:\")\n",
    "    return word\n",
    "\n",
    "ans = userInput()\n",
    "print(ans)"
   ]
  },
  {
   "cell_type": "markdown",
   "metadata": {},
   "source": [
    "# Scope"
   ]
  },
  {
   "cell_type": "code",
   "execution_count": 40,
   "metadata": {},
   "outputs": [
    {
     "ename": "UnboundLocalError",
     "evalue": "cannot access local variable 'number' where it is not associated with a value",
     "output_type": "error",
     "traceback": [
      "\u001b[1;31m---------------------------------------------------------------------------\u001b[0m",
      "\u001b[1;31mUnboundLocalError\u001b[0m                         Traceback (most recent call last)",
      "Cell \u001b[1;32mIn[40], line 5\u001b[0m\n\u001b[0;32m      3\u001b[0m \u001b[38;5;28;01mdef\u001b[39;00m \u001b[38;5;21mscopeTest\u001b[39m( ):\n\u001b[0;32m      4\u001b[0m     number \u001b[38;5;241m+\u001b[39m\u001b[38;5;241m=\u001b[39m \u001b[38;5;241m1\u001b[39m \u001b[38;5;66;03m# not accessible due to function level scope\u001b[39;00m\n\u001b[1;32m----> 5\u001b[0m scopeTest( )\n",
      "Cell \u001b[1;32mIn[40], line 4\u001b[0m, in \u001b[0;36mscopeTest\u001b[1;34m()\u001b[0m\n\u001b[0;32m      3\u001b[0m \u001b[38;5;28;01mdef\u001b[39;00m \u001b[38;5;21mscopeTest\u001b[39m( ):\n\u001b[1;32m----> 4\u001b[0m     number \u001b[38;5;241m+\u001b[39m\u001b[38;5;241m=\u001b[39m \u001b[38;5;241m1\u001b[39m\n",
      "\u001b[1;31mUnboundLocalError\u001b[0m: cannot access local variable 'number' where it is not associated with a value"
     ]
    }
   ],
   "source": [
    "# where global variables can be accessed\n",
    "number = 5\n",
    "def scopeTest( ):\n",
    "    number += 1 # not accessible due to function level scope\n",
    "scopeTest( )"
   ]
  },
  {
   "cell_type": "code",
   "execution_count": null,
   "metadata": {},
   "outputs": [
    {
     "name": "stdout",
     "output_type": "stream",
     "text": [
      "function\n"
     ]
    }
   ],
   "source": [
    "# accessing variables defined in a function\n",
    "def scopeTest( ):\n",
    "    word = \"function\"\n",
    "    return word\n",
    "value = scopeTest( )\n",
    "print(value)\n",
    "\n",
    "#Now we have access to the word defined within the function, we simply assign the returned value to another variable to work with."
   ]
  },
  {
   "cell_type": "code",
   "execution_count": 45,
   "metadata": {},
   "outputs": [
    {
     "name": "stdout",
     "output_type": "stream",
     "text": [
      "Before Altering: ['baseball', 'football', 'hockey', 'basketball']\n",
      "After Altering: ['soccer', 'football', 'hockey', 'basketball']\n"
     ]
    }
   ],
   "source": [
    "# changing list item values by index\n",
    "sports = [ \"baseball\", \"football\", \"hockey\", \"basketball\" ]\n",
    "def change(aList):\n",
    "    aList[ 0 ] = \"soccer\"\n",
    "print(\"Before Altering: {}\".format(sports) )\n",
    "change(sports)\n",
    "print( \"After Altering: {}\".format(sports) )"
   ]
  },
  {
   "cell_type": "markdown",
   "metadata": {},
   "source": [
    "# Thursday Exercises"
   ]
  },
  {
   "cell_type": "code",
   "execution_count": 51,
   "metadata": {},
   "outputs": [
    {
     "name": "stdout",
     "output_type": "stream",
     "text": [
      "['Bob', 'Rich', 'Amanda']\n",
      "['ABbey', 'Rich', 'Amanda']\n"
     ]
    }
   ],
   "source": [
    "# Names: Create a function that will change the list passed in with a parameter of name at a given index. Such that if I were to pass in “Bill” and index 1, it would change “Rich” to “Bill.” \n",
    "# Use the list and function definition in the following:\n",
    "# >>> names = ['Bob', 'Rich', 'Amanda']\n",
    "# >>> def changeValue(aList, name, index):\n",
    "\n",
    "names = [\"Bob\",\"Rich\",\"Amanda\"]\n",
    "print(names)\n",
    "\n",
    "index = int(input(\"What index do you want to change\"))\n",
    "name = str(input(\"What name you want to change it to?\"))\n",
    "\n",
    "def changeValue(aList, name, index):\n",
    "    aList[index] = name\n",
    "    \n",
    "\n",
    "changeValue(names,name,index)\n",
    "print(names)"
   ]
  },
  {
   "cell_type": "markdown",
   "metadata": {},
   "source": [
    "# Friday Project: Creating a shopping cart"
   ]
  },
  {
   "cell_type": "code",
   "execution_count": null,
   "metadata": {},
   "outputs": [
    {
     "name": "stdout",
     "output_type": "stream",
     "text": [
      "Sorry that was not an option.\n",
      "Thanks for using our program\n"
     ]
    }
   ],
   "source": [
    "#import necessary functions - \n",
    "from IPython.display import clear_output\n",
    "\n",
    "# global list variable - definedoutside the functions which means it can be accessed by any functions in script\n",
    "cart = []\n",
    "\n",
    "#Create function to add items to cart - takes the parameter 'item' which the user wants to add, clears the output and add the item to the 'cart' list\n",
    "def addItem(item):\n",
    "    clear_output()\n",
    "    cart.append(item)\n",
    "    print(\"{} has been added\".format(item))\n",
    "          \n",
    "#create function to remove items from cart - uses a try-except to handle errors if the item isnt in the cart\n",
    "def removeItem(item):\n",
    "    clear_output()\n",
    "    try:\n",
    "        cart.remove(item)\n",
    "        print(\"{} has been removed: \".format(item))\n",
    "    except:\n",
    "        print(\"Sorry we could not remove that item.\")\n",
    "\n",
    "#Create a function to show items in cart - it first clears the output, then checks if the cart is not empty - if there are items, it prints, if not it prints a message saying that\n",
    "def showCart():\n",
    "    clear_output()\n",
    "    if cart:\n",
    "        print(\"Here is your cart.\")\n",
    "        for item in cart:\n",
    "            print(\"-{}\".format(item))\n",
    "    else:\n",
    "        print(\"Your cart is empty\")\n",
    "\n",
    "#create function to clear items from cart\n",
    "def clearCart():\n",
    "    clear_output()\n",
    "    cart.clear()\n",
    "    print(\"Your cart is empty.\")\n",
    "\n",
    "# create main function that loops until user quits - the program’s entry point and runs a loop that continues until the user chooses to quit (done = True)\n",
    "def main():\n",
    "    done = False        #intially set to false and we want to keep the loop running\n",
    "\n",
    "    while not done:     #aslo like saying if done == False - the condition 'not done' sees if done is False - Since done is False at the beginning, not done evaluates to correct, allowing the loop to start\n",
    "        ans = input(\"quit/add/remove/show/clear: \".lower())\n",
    "        \n",
    "    #base case\n",
    "        if ans == \"quit\":\n",
    "            print(\"Thanks for using our program\")\n",
    "            done = True\n",
    "        elif ans == \"add\":\n",
    "            item = input(\"What would you like to add?\".title())\n",
    "            addItem(item)\n",
    "        elif ans == \"remove\":\n",
    "            showCart()\n",
    "            item = input(\"What item would you like to remove?\")\n",
    "            removeItem(item)\n",
    "        elif ans == \"show\":\n",
    "            showCart()\n",
    "        elif ans == \"clear\":\n",
    "            clearCart()\n",
    "        else:\n",
    "            print(\"Sorry that was not an option.\")\n",
    "\n",
    "main() #run the program"
   ]
  },
  {
   "cell_type": "markdown",
   "metadata": {},
   "source": [
    "# Matt's Workshop"
   ]
  },
  {
   "cell_type": "code",
   "execution_count": 15,
   "metadata": {},
   "outputs": [
    {
     "name": "stdout",
     "output_type": "stream",
     "text": [
      "20\n",
      "36.85\n"
     ]
    }
   ],
   "source": [
    "def multiplyNums(num1, num2):\n",
    "    result = num1 * num2\n",
    "    print(result)\n",
    "\n",
    "multiplyNums(4,5)\n",
    "multiplyNums(6.7,5.5)"
   ]
  },
  {
   "cell_type": "code",
   "execution_count": null,
   "metadata": {},
   "outputs": [],
   "source": [
    "#write a program that asks a user for one word, then write a function that tells the user how many letters in the word\n",
    "\n",
    "word = input(\"What word do you want to check\")\n",
    "def wordCount(word):\n",
    "    return len(word)\n",
    "\n",
    "\n"
   ]
  }
 ],
 "metadata": {
  "kernelspec": {
   "display_name": "base",
   "language": "python",
   "name": "python3"
  },
  "language_info": {
   "codemirror_mode": {
    "name": "ipython",
    "version": 3
   },
   "file_extension": ".py",
   "mimetype": "text/x-python",
   "name": "python",
   "nbconvert_exporter": "python",
   "pygments_lexer": "ipython3",
   "version": "3.12.4"
  }
 },
 "nbformat": 4,
 "nbformat_minor": 2
}
